{
 "cells": [
  {
   "cell_type": "markdown",
   "metadata": {
    "id": "Y4wuS60lJSVQ"
   },
   "source": [
    "## Numpy assignment"
   ]
  },
  {
   "cell_type": "markdown",
   "metadata": {
    "id": "cYy8-Wq3JSVR"
   },
   "source": [
    "## 1 Preliminaries"
   ]
  },
  {
   "cell_type": "code",
   "execution_count": 201,
   "metadata": {
    "id": "5Z5-LLD_JSVS"
   },
   "outputs": [],
   "source": [
    "# The usual preamble\n",
    "import numpy as np"
   ]
  },
  {
   "cell_type": "markdown",
   "metadata": {
    "id": "MN3eCTN8JSVV"
   },
   "source": [
    "## Numpy"
   ]
  },
  {
   "cell_type": "code",
   "execution_count": 3,
   "metadata": {
    "id": "TCHqsJXxJSVW"
   },
   "outputs": [],
   "source": [
    "import numpy as np\n",
    "x = np.array([2,3,1,0])\n",
    "y =np.arange(10)\n",
    "z = 2 + x"
   ]
  },
  {
   "cell_type": "markdown",
   "metadata": {
    "id": "n1xzCtm3JSVY"
   },
   "source": [
    "Write expressions in the next three cells to retrieve 1 from `x`, 3 from `y`, and 3 from `z`."
   ]
  },
  {
   "cell_type": "code",
   "execution_count": 4,
   "metadata": {
    "id": "96FDYv0oJSVZ",
    "scrolled": true
   },
   "outputs": [
    {
     "data": {
      "text/plain": [
       "1"
      ]
     },
     "execution_count": 4,
     "metadata": {},
     "output_type": "execute_result"
    }
   ],
   "source": [
    "x[2]"
   ]
  },
  {
   "cell_type": "code",
   "execution_count": 6,
   "metadata": {
    "id": "xVEHjefmqmYm"
   },
   "outputs": [
    {
     "data": {
      "text/plain": [
       "3"
      ]
     },
     "execution_count": 6,
     "metadata": {},
     "output_type": "execute_result"
    }
   ],
   "source": [
    "y # See the content\n",
    "y[3]"
   ]
  },
  {
   "cell_type": "code",
   "execution_count": 9,
   "metadata": {
    "id": "rtqGRcdcqmYm"
   },
   "outputs": [
    {
     "data": {
      "text/plain": [
       "3"
      ]
     },
     "execution_count": 9,
     "metadata": {},
     "output_type": "execute_result"
    }
   ],
   "source": [
    "z # See the content\n",
    "z[2]"
   ]
  },
  {
   "cell_type": "markdown",
   "metadata": {
    "id": "t17iimSbJSVb"
   },
   "source": [
    "In the next cell, write an expression that generates a 5 by 5 array filled with zeros, and another  that generates a 1 by 1 array with a 1 in it."
   ]
  },
  {
   "cell_type": "code",
   "execution_count": 15,
   "metadata": {
    "id": "s8k51GlRJSVb"
   },
   "outputs": [
    {
     "data": {
      "text/plain": [
       "array([[0., 0., 0., 0., 0.],\n",
       "       [0., 0., 0., 0., 0.],\n",
       "       [0., 0., 0., 0., 0.],\n",
       "       [0., 0., 0., 0., 0.],\n",
       "       [0., 0., 0., 0., 0.]])"
      ]
     },
     "execution_count": 15,
     "metadata": {},
     "output_type": "execute_result"
    }
   ],
   "source": [
    "M_5x5 = np.zeros((5, 5))\n",
    "M_5x5"
   ]
  },
  {
   "cell_type": "code",
   "execution_count": 18,
   "metadata": {
    "id": "Qec19vwPqmYn"
   },
   "outputs": [
    {
     "data": {
      "text/plain": [
       "array([[1.]])"
      ]
     },
     "execution_count": 18,
     "metadata": {},
     "output_type": "execute_result"
    }
   ],
   "source": [
    "M_1x1 = np.ones((1, 1))\n",
    "M_1x1"
   ]
  },
  {
   "cell_type": "markdown",
   "metadata": {
    "id": "rZb3oDxIqmYn"
   },
   "source": [
    "In the next cell write an expression whose value is a 1D array of length 25 filled with the even integers from 2 to 50 inclusive and reshape it into a 5x5 array.  Assign this array to the name `X`; `X` should evaluate as follows.\n",
    "\n",
    "```\n",
    "In [ ]: X\n",
    "\n",
    "Out [ ]: array([[ 2,  4,  6,  8, 10],\n",
    "                [12, 14, 16, 18, 20],\n",
    "                [22, 24, 26, 28, 30],\n",
    "                [32, 34, 36, 38, 40],\n",
    "                [42, 44, 46, 48, 50]])\n",
    "```\n"
   ]
  },
  {
   "cell_type": "markdown",
   "metadata": {
    "id": "eRSt6SxxqmYo"
   },
   "source": [
    "Write an expression that retrieves the following subarray of `X`.  Use slicing in both dimensions\n",
    "of `X`.\n",
    "\n",
    "```\n",
    "array([[24, 26],\n",
    "       [34, 36]])\n",
    "```"
   ]
  },
  {
   "cell_type": "code",
   "execution_count": 20,
   "metadata": {
    "id": "ORHscNYzqmYo",
    "scrolled": false
   },
   "outputs": [
    {
     "data": {
      "text/plain": [
       "array([[ 2,  4,  6,  8, 10],\n",
       "       [12, 14, 16, 18, 20],\n",
       "       [22, 24, 26, 28, 30],\n",
       "       [32, 34, 36, 38, 40],\n",
       "       [42, 44, 46, 48, 50]])"
      ]
     },
     "execution_count": 20,
     "metadata": {},
     "output_type": "execute_result"
    }
   ],
   "source": [
    "X = np.arange(2,52,2).reshape((5,5))\n",
    "X"
   ]
  },
  {
   "cell_type": "code",
   "execution_count": 28,
   "metadata": {},
   "outputs": [
    {
     "data": {
      "text/plain": [
       "array([[24, 26],\n",
       "       [34, 36]])"
      ]
     },
     "execution_count": 28,
     "metadata": {},
     "output_type": "execute_result"
    }
   ],
   "source": [
    "X[2:4, 1:3]"
   ]
  },
  {
   "cell_type": "markdown",
   "metadata": {
    "id": "VXWURcJwqmYo"
   },
   "source": [
    "Retrieve the following from `X`\n",
    "\n",
    "```\n",
    "array([[18, 20],\n",
    "       [38, 40]])\n",
    "```\n",
    "\n",
    "Hint: Use a slice with steps."
   ]
  },
  {
   "cell_type": "code",
   "execution_count": 37,
   "metadata": {},
   "outputs": [
    {
     "data": {
      "text/plain": [
       "array([[18, 20],\n",
       "       [38, 40]])"
      ]
     },
     "execution_count": 37,
     "metadata": {},
     "output_type": "execute_result"
    }
   ],
   "source": [
    "X[1::2, 3:5]"
   ]
  },
  {
   "cell_type": "markdown",
   "metadata": {
    "id": "id5wieXrqmYp"
   },
   "source": [
    "Use \"fancy indexing\" to write one expression that retrieves the following values from X\n",
    "\n",
    "```\n",
    "array([12, 26, 50])\n",
    "```"
   ]
  },
  {
   "cell_type": "code",
   "execution_count": 38,
   "metadata": {
    "id": "PwXy_tw7qmYp"
   },
   "outputs": [
    {
     "data": {
      "text/plain": [
       "array([12, 26, 50])"
      ]
     },
     "execution_count": 38,
     "metadata": {},
     "output_type": "execute_result"
    }
   ],
   "source": [
    "X[[1, 2, -1], [0, 2, -1]]"
   ]
  },
  {
   "cell_type": "markdown",
   "metadata": {
    "id": "wSbS2Fo5JSVe"
   },
   "source": [
    "<style>\n",
    "    @font-face {\n",
    "        font-family: \"Computer Modern\";\n",
    "        src: url('http://mirrors.ctan.org/fonts/cm-unicode/fonts/otf/cmunss.otf');\n",
    "    }\n",
    "    div.cell{\n",
    "        width:800px;\n",
    "        margin-left:16% !important;\n",
    "        margin-right:auto;\n",
    "    }\n",
    "    h1 {\n",
    "        font-family: Helvetica, serif;\n",
    "    }\n",
    "    h4{\n",
    "        margin-top:12px;\n",
    "        margin-bottom: 3px;\n",
    "       }\n",
    "    div.text_cell_render{\n",
    "        font-family: Computer Modern, \"Helvetica Neue\", Arial, Helvetica, Geneva, sans-serif;\n",
    "        line-height: 145%;\n",
    "        font-size: 130%;\n",
    "        width:800px;\n",
    "        margin-left:auto;\n",
    "        margin-right:auto;\n",
    "    }\n",
    "    .CodeMirror{\n",
    "            font-family: \"Source Code Pro\", source-code-pro,Consolas, monospace;\n",
    "    }\n",
    "    .text_cell_render h5 {\n",
    "        font-weight: 300;\n",
    "        font-size: 22pt;\n",
    "        color: #4057A1;\n",
    "        font-style: italic;\n",
    "        margin-bottom: .5em;\n",
    "        margin-top: 0.5em;\n",
    "        display: block;\n",
    "    }\n",
    "    \n",
    "    .warning{\n",
    "        color: rgb( 240, 20, 20 )\n",
    "        }  "
   ]
  },
  {
   "cell_type": "markdown",
   "metadata": {
    "id": "7BvfGKHjJSVe"
   },
   "source": [
    "#### Exercise\n",
    "\n",
    "The next cell defines two arrays `a` and `b`.\n",
    "In this exercise , your task is to create an array\n",
    "that is exactly like `a` except that the negative values in `a` are replaced by\n",
    "`0`. And similarly for `b`. \n",
    "\n",
    "You can do this either with assignments (which\n",
    "will change `a` and `b`) or with a single expression that will create \n",
    "new arrays with the negative values replaced by `0`s.\n",
    "\n",
    "The challenge is this: Make sure that the whatever solution you come up\n",
    "for `a` also works for `b`, with `b` substituted for `a."
   ]
  },
  {
   "cell_type": "markdown",
   "metadata": {
    "id": "lzVIIDG4qmYq"
   },
   "source": [
    "Here are `a` and `b`"
   ]
  },
  {
   "cell_type": "code",
   "execution_count": 98,
   "metadata": {
    "id": "wvKZPhcAJSVe",
    "outputId": "4bd961d5-49cc-4082-dd51-c3ca3eec9224"
   },
   "outputs": [
    {
     "name": "stdout",
     "output_type": "stream",
     "text": [
      "[ 7  6  5  4  3  2  1  0 -1 -2 -3]\n",
      "[  1  -2   3  -4   5  -6   7  -8   9 -10]\n"
     ]
    }
   ],
   "source": [
    "a = np.arange(10,-1,-1) - 3\n",
    "print(a)\n",
    "b = np.array([1,-1] * 5) * np.arange(1,11)\n",
    "print(b)"
   ]
  },
  {
   "cell_type": "markdown",
   "metadata": {
    "id": "BO7xStIXqmYq"
   },
   "source": [
    "One assignment that solves the problem for `a` is:"
   ]
  },
  {
   "cell_type": "code",
   "execution_count": null,
   "metadata": {
    "id": "YTRp19udqmYr",
    "outputId": "318bed5c-0470-4f3e-a6f2-9fae5d177578"
   },
   "outputs": [
    {
     "data": {
      "text/plain": [
       "array([7, 6, 5, 4, 3, 2, 1, 0, 0, 0, 0])"
      ]
     },
     "execution_count": 6,
     "metadata": {},
     "output_type": "execute_result"
    }
   ],
   "source": [
    "a[-3:] = 0\n",
    "a"
   ]
  },
  {
   "cell_type": "markdown",
   "metadata": {
    "id": "MWZaKk0JqmYr"
   },
   "source": [
    "This replaces all negative values in `a` with `0`s, as desired.\n",
    "\n",
    "But this isn't a good overall solution, because this\n",
    "assignment doesn't eliminate the negative values in  `b`."
   ]
  },
  {
   "cell_type": "code",
   "execution_count": null,
   "metadata": {
    "id": "Bme8EtzyqmYr",
    "outputId": "a019daef-2e8f-417d-bb1d-5cd98d3cb59e"
   },
   "outputs": [
    {
     "data": {
      "text/plain": [
       "array([ 1, -2,  3, -4,  5, -6,  7,  0,  0,  0])"
      ]
     },
     "execution_count": 10,
     "metadata": {},
     "output_type": "execute_result"
    }
   ],
   "source": [
    "b[-3:] = 0\n",
    "b"
   ]
  },
  {
   "cell_type": "markdown",
   "metadata": {
    "id": "Dc8l9lU-qmYr"
   },
   "source": [
    "There are many negative values left.\n",
    "\n",
    "See if you can cook up a solution that applies\n",
    "to both `a` and `b` and gives us arrays with `0` replacing all\n",
    "the negative values.  \n",
    "\n",
    "**Hint One**: Use a Boolean condition\n",
    "combined with an assignment.  This is the strategy that\n",
    "changes both `a` and `b`."
   ]
  },
  {
   "cell_type": "code",
   "execution_count": 99,
   "metadata": {
    "id": "ebYiEugLqmYr"
   },
   "outputs": [
    {
     "name": "stdout",
     "output_type": "stream",
     "text": [
      "a:  [ 7  6  5  4  3  2  1  0 -1 -2 -3]\n",
      "b:  [  1  -2   3  -4   5  -6   7  -8   9 -10]\n",
      "Non-negative a: [7 6 5 4 3 2 1 0 0 0 0]\n",
      "Non-negative b: [1 0 3 0 5 0 7 0 9 0]\n"
     ]
    }
   ],
   "source": [
    "# Your answer here if you used Hint One\n",
    "print(\"a: \", a) # See the content\n",
    "print(\"b: \", b) # See the content\n",
    "a[a < 0] = 0\n",
    "print(\"Non-negative a:\", a)\n",
    "b[b < 0] = 0\n",
    "print(\"Non-negative b:\", b)"
   ]
  },
  {
   "cell_type": "markdown",
   "metadata": {
    "id": "z_uYRqeIqmYs"
   },
   "source": [
    "**Hint Two**:  One option that doesn't change `a` and `b` is to use `np.where`.\n",
    "\n",
    "\n",
    "The form for using `np.where` is:\n",
    "\n",
    "```\n",
    ">>> np.where(condition, x, y)\n",
    "```\n",
    "\n",
    "where `condition`, `x` and `y` are arrays of the same size (or are broadcastable to the same size).\n",
    "Let `a = np.where(condition, x, y)`;\n",
    "then `a[i] == x[i]` if `condition[i] == True`; otherwise `a[i] ==y[i]`.\n",
    "\n",
    "For example\n",
    "```\n",
    ">>> np.where(np.array([True,False,True]),np.array([1,23,3]),np.array([0,2,0]))\n",
    "array([1, 2, 3])\n",
    "```\n",
    "\n",
    "Another example:  Given `a` and `b` as defined below,  return an array just like `a` wherever\n",
    "`a[i]` is the square root of `b[i]` and `0` where `a[i]` is not.\n",
    "\n",
    "```\n",
    ">>> a = np.array([1, 4.1, 9, 16])\n",
    ">>> b = np.array([1,2,3,4])\n",
    ">>> condition = (np.sqrt(a) == b)\n",
    ">>> np.where(condition,a,0)\n",
    "array([1., 0, 9., 16.])\n",
    "```\n",
    "\n",
    "Note that `condition` is just a Boolean array as in the previous example:\n",
    "\n",
    "```\n",
    ">>> condition\n",
    "array([ True, False,  True,  True])\n",
    "```"
   ]
  },
  {
   "cell_type": "code",
   "execution_count": 100,
   "metadata": {
    "id": "CJo31gkmqmYs"
   },
   "outputs": [
    {
     "name": "stdout",
     "output_type": "stream",
     "text": [
      "a:  [7 6 5 4 3 2 1 0 0 0 0]\n",
      "b:  [1 0 3 0 5 0 7 0 9 0]\n",
      "Non-negative a: [7 6 5 4 3 2 1 0 0 0 0]\n",
      "Non-negative b: [1 0 3 0 5 0 7 0 9 0]\n"
     ]
    }
   ],
   "source": [
    "# Your answer here if you used Hint Two\n",
    "print(\"a: \", a) # See the content\n",
    "print(\"b: \", b) # See the content\n",
    "conditiona = (a >= 0)\n",
    "a_pos = np.where(conditiona, a, 0)\n",
    "print(\"Non-negative a:\",  a_pos)\n",
    "conditionb = (b >= 0)\n",
    "b_pos = np.where(conditionb, b, 0)\n",
    "print( \"Non-negative b:\",  b_pos)"
   ]
  },
  {
   "cell_type": "markdown",
   "metadata": {
    "id": "m7NpYSRgJSVg"
   },
   "source": [
    "#### Exercise\n",
    "\n",
    "In the next cell write an expression that produces an array containing result of multiplying 7 by each of the first 12 integers (1 - 12). There's a hard way to do this and an easy way. The hard way uses a loop. The easy way uses `np.arange` and elementwise multiplication. Don't use the hard way."
   ]
  },
  {
   "cell_type": "code",
   "execution_count": 109,
   "metadata": {
    "id": "7yiKGc0HJSVh"
   },
   "outputs": [
    {
     "name": "stdout",
     "output_type": "stream",
     "text": [
      "Array of integers 1 - 12 before multiplication:  [ 1  2  3  4  5  6  7  8  9 10 11 12]\n",
      "Array of integers 1 - 12 after multiplication:  [ 7 14 21 28 35 42 49 56 63 70 77 84]\n"
     ]
    }
   ],
   "source": [
    "arr = np.arange(1, 13) # Array of 12 integers: 1 - 12\n",
    "print(\"Array of integers 1 - 12 before multiplication: \", arr)\n",
    "arr_x7 = arr * 7\n",
    "print(\"Array of integers 1 - 12 after multiplication: \", arr_x7)"
   ]
  },
  {
   "cell_type": "markdown",
   "metadata": {
    "id": "o2TyTiOGJSVj"
   },
   "source": [
    "## 2D arrays"
   ]
  },
  {
   "cell_type": "code",
   "execution_count": 111,
   "metadata": {
    "id": "FzCLv6SiJSVj"
   },
   "outputs": [],
   "source": [
    "import numpy as np\n",
    "room_matrix = \\\n",
    "np.array(\n",
    "[[6,  1, 4, 2],\n",
    "[5,  2, 2, 2],\n",
    "[7,  3, 3, 2],\n",
    "[5,  5, 3, 1],\n",
    "[8, 7, 5, 2]])\n",
    "\n",
    "cost_vector = np.array([40, 175, 90, 450])"
   ]
  },
  {
   "cell_type": "markdown",
   "metadata": {
    "id": "XjUwZF0uJSVl"
   },
   "source": [
    "In the next cell write an express that retrieves the last column of `room_matrix`."
   ]
  },
  {
   "cell_type": "code",
   "execution_count": 120,
   "metadata": {
    "id": "QLIMA6dDJSVm",
    "outputId": "84474a8c-aafc-42e5-9ba3-d89e96dcec95"
   },
   "outputs": [
    {
     "data": {
      "text/plain": [
       "array([2, 2, 2, 1, 2])"
      ]
     },
     "execution_count": 120,
     "metadata": {},
     "output_type": "execute_result"
    }
   ],
   "source": [
    "room_matrix[:,-1]"
   ]
  },
  {
   "cell_type": "markdown",
   "metadata": {
    "id": "oTcVUAwZJSVo"
   },
   "source": [
    "In the next cell, write an expression that retrieves the third row of `room_matrix`."
   ]
  },
  {
   "cell_type": "code",
   "execution_count": 121,
   "metadata": {
    "id": "NPYhI-MNJSVo",
    "outputId": "2d2b0c33-631a-42f4-b51c-d7c905f045f1"
   },
   "outputs": [
    {
     "data": {
      "text/plain": [
       "array([7, 3, 3, 2])"
      ]
     },
     "execution_count": 121,
     "metadata": {},
     "output_type": "execute_result"
    }
   ],
   "source": [
    "room_matrix[2,:]"
   ]
  },
  {
   "cell_type": "markdown",
   "metadata": {
    "id": "g7ukLsINJSVq"
   },
   "source": [
    "In the next cell write an expression that retrieves the first two elements of the second column of `room_matrix`"
   ]
  },
  {
   "cell_type": "code",
   "execution_count": 150,
   "metadata": {
    "id": "kBlJwiNHJSVq",
    "outputId": "4625f7af-fb66-4153-f214-8644a10df02c"
   },
   "outputs": [
    {
     "data": {
      "text/plain": [
       "array([1, 2])"
      ]
     },
     "execution_count": 150,
     "metadata": {},
     "output_type": "execute_result"
    }
   ],
   "source": [
    "room_matrix[:2,1]"
   ]
  },
  {
   "cell_type": "markdown",
   "metadata": {
    "id": "PFL_HNz8JSVs"
   },
   "source": [
    "In the next cell write an expression that retrieves the following 2D subarray from `room_matrix`:\n",
    "\n",
    "```\n",
    "array([[2,2],\n",
    "       [3,2]])\n",
    "```"
   ]
  },
  {
   "cell_type": "code",
   "execution_count": 225,
   "metadata": {
    "id": "4pJVgJJAJSVt",
    "outputId": "36a5a055-c165-4dac-f11d-c655e7c365b8"
   },
   "outputs": [
    {
     "name": "stdout",
     "output_type": "stream",
     "text": [
      "[[6 1 4 2]\n",
      " [5 2 2 2]\n",
      " [7 3 3 2]\n",
      " [5 5 3 1]\n",
      " [8 7 5 2]]\n"
     ]
    },
    {
     "data": {
      "text/plain": [
       "array([[2, 2],\n",
       "       [3, 2]])"
      ]
     },
     "execution_count": 225,
     "metadata": {},
     "output_type": "execute_result"
    }
   ],
   "source": [
    "print(room_matrix) # Display the content for clarity\n",
    "room_matrix[1:3, 1::2]"
   ]
  },
  {
   "cell_type": "markdown",
   "metadata": {
    "id": "5Rn-NzcTJSVv"
   },
   "source": [
    "### In the next cell, write an expression that returns a Boolean array that identifies the members of `room_matrix` which are greater than or equal to 7."
   ]
  },
  {
   "cell_type": "code",
   "execution_count": 230,
   "metadata": {},
   "outputs": [
    {
     "data": {
      "text/plain": [
       "array([[6, 1, 4, 2],\n",
       "       [5, 2, 2, 2],\n",
       "       [7, 3, 3, 2],\n",
       "       [5, 5, 3, 1],\n",
       "       [8, 7, 5, 2]])"
      ]
     },
     "execution_count": 230,
     "metadata": {},
     "output_type": "execute_result"
    }
   ],
   "source": [
    "room_matrix # Display the content for clarity"
   ]
  },
  {
   "cell_type": "code",
   "execution_count": 231,
   "metadata": {
    "id": "qOJ3bDQzJSVv",
    "outputId": "862ba476-f903-45bf-d62f-8fc67492cc7c"
   },
   "outputs": [
    {
     "data": {
      "text/plain": [
       "array([[False, False, False, False],\n",
       "       [False, False, False, False],\n",
       "       [ True, False, False, False],\n",
       "       [False, False, False, False],\n",
       "       [ True,  True, False, False]])"
      ]
     },
     "execution_count": 231,
     "metadata": {},
     "output_type": "execute_result"
    }
   ],
   "source": [
    "room_matrix >= 7"
   ]
  },
  {
   "cell_type": "markdown",
   "metadata": {
    "id": "C2DSqCenJp_s"
   },
   "source": [
    "In the next cell, write an expression that produces an array containing the items in `room_matrix` which are greater than or equal to 7.  Note:  This question and the previous question do not have the same answer."
   ]
  },
  {
   "cell_type": "code",
   "execution_count": 232,
   "metadata": {
    "id": "4LXtXxUVqmYv",
    "outputId": "b119926f-e98f-4759-8c7f-eaa4a7f9bd7a"
   },
   "outputs": [
    {
     "data": {
      "text/plain": [
       "array([7, 8, 7])"
      ]
     },
     "execution_count": 232,
     "metadata": {},
     "output_type": "execute_result"
    }
   ],
   "source": [
    "room_matrix[room_matrix >= 7]"
   ]
  },
  {
   "cell_type": "markdown",
   "metadata": {
    "id": "wwR0EsO5JSVx"
   },
   "source": [
    "## Iris data exercise"
   ]
  },
  {
   "cell_type": "markdown",
   "metadata": {
    "id": "-sAlD8q_JSVx"
   },
   "source": [
    "In the next cell, use a Boolean mask to return all the rows of the iris data set whose column 1 value is greater than 3.0 (I mean the column whose **index** is 1).\n",
    "The next cell is not empty because you have been provided with the code which loads the data.\n",
    "So you should keep that code and **add to it**.  Be sure to save the rows found by assigning\n",
    "them to a variable name"
   ]
  },
  {
   "cell_type": "code",
   "execution_count": 233,
   "metadata": {
    "id": "RWsm4jcbJSVy"
   },
   "outputs": [],
   "source": [
    "from sklearn.datasets import load_iris\n",
    "data = load_iris()\n",
    "features = data['data']\n",
    "target = data['target']"
   ]
  },
  {
   "cell_type": "code",
   "execution_count": 234,
   "metadata": {
    "id": "nJa6nE1WqmYv",
    "outputId": "9e1cc364-3599-4374-ae30-3892f3691706"
   },
   "outputs": [
    {
     "data": {
      "text/plain": [
       "array([[5.1, 3.5, 1.4, 0.2],\n",
       "       [4.9, 3. , 1.4, 0.2],\n",
       "       [4.7, 3.2, 1.3, 0.2],\n",
       "       [4.6, 3.1, 1.5, 0.2],\n",
       "       [5. , 3.6, 1.4, 0.2],\n",
       "       [5.4, 3.9, 1.7, 0.4],\n",
       "       [4.6, 3.4, 1.4, 0.3],\n",
       "       [5. , 3.4, 1.5, 0.2],\n",
       "       [4.4, 2.9, 1.4, 0.2],\n",
       "       [4.9, 3.1, 1.5, 0.1],\n",
       "       [5.4, 3.7, 1.5, 0.2],\n",
       "       [4.8, 3.4, 1.6, 0.2],\n",
       "       [4.8, 3. , 1.4, 0.1],\n",
       "       [4.3, 3. , 1.1, 0.1],\n",
       "       [5.8, 4. , 1.2, 0.2],\n",
       "       [5.7, 4.4, 1.5, 0.4],\n",
       "       [5.4, 3.9, 1.3, 0.4],\n",
       "       [5.1, 3.5, 1.4, 0.3],\n",
       "       [5.7, 3.8, 1.7, 0.3],\n",
       "       [5.1, 3.8, 1.5, 0.3],\n",
       "       [5.4, 3.4, 1.7, 0.2],\n",
       "       [5.1, 3.7, 1.5, 0.4],\n",
       "       [4.6, 3.6, 1. , 0.2],\n",
       "       [5.1, 3.3, 1.7, 0.5],\n",
       "       [4.8, 3.4, 1.9, 0.2],\n",
       "       [5. , 3. , 1.6, 0.2],\n",
       "       [5. , 3.4, 1.6, 0.4],\n",
       "       [5.2, 3.5, 1.5, 0.2],\n",
       "       [5.2, 3.4, 1.4, 0.2],\n",
       "       [4.7, 3.2, 1.6, 0.2],\n",
       "       [4.8, 3.1, 1.6, 0.2],\n",
       "       [5.4, 3.4, 1.5, 0.4],\n",
       "       [5.2, 4.1, 1.5, 0.1],\n",
       "       [5.5, 4.2, 1.4, 0.2],\n",
       "       [4.9, 3.1, 1.5, 0.2],\n",
       "       [5. , 3.2, 1.2, 0.2],\n",
       "       [5.5, 3.5, 1.3, 0.2],\n",
       "       [4.9, 3.6, 1.4, 0.1],\n",
       "       [4.4, 3. , 1.3, 0.2],\n",
       "       [5.1, 3.4, 1.5, 0.2],\n",
       "       [5. , 3.5, 1.3, 0.3],\n",
       "       [4.5, 2.3, 1.3, 0.3],\n",
       "       [4.4, 3.2, 1.3, 0.2],\n",
       "       [5. , 3.5, 1.6, 0.6],\n",
       "       [5.1, 3.8, 1.9, 0.4],\n",
       "       [4.8, 3. , 1.4, 0.3],\n",
       "       [5.1, 3.8, 1.6, 0.2],\n",
       "       [4.6, 3.2, 1.4, 0.2],\n",
       "       [5.3, 3.7, 1.5, 0.2],\n",
       "       [5. , 3.3, 1.4, 0.2],\n",
       "       [7. , 3.2, 4.7, 1.4],\n",
       "       [6.4, 3.2, 4.5, 1.5],\n",
       "       [6.9, 3.1, 4.9, 1.5],\n",
       "       [5.5, 2.3, 4. , 1.3],\n",
       "       [6.5, 2.8, 4.6, 1.5],\n",
       "       [5.7, 2.8, 4.5, 1.3],\n",
       "       [6.3, 3.3, 4.7, 1.6],\n",
       "       [4.9, 2.4, 3.3, 1. ],\n",
       "       [6.6, 2.9, 4.6, 1.3],\n",
       "       [5.2, 2.7, 3.9, 1.4],\n",
       "       [5. , 2. , 3.5, 1. ],\n",
       "       [5.9, 3. , 4.2, 1.5],\n",
       "       [6. , 2.2, 4. , 1. ],\n",
       "       [6.1, 2.9, 4.7, 1.4],\n",
       "       [5.6, 2.9, 3.6, 1.3],\n",
       "       [6.7, 3.1, 4.4, 1.4],\n",
       "       [5.6, 3. , 4.5, 1.5],\n",
       "       [5.8, 2.7, 4.1, 1. ],\n",
       "       [6.2, 2.2, 4.5, 1.5],\n",
       "       [5.6, 2.5, 3.9, 1.1],\n",
       "       [5.9, 3.2, 4.8, 1.8],\n",
       "       [6.1, 2.8, 4. , 1.3],\n",
       "       [6.3, 2.5, 4.9, 1.5],\n",
       "       [6.1, 2.8, 4.7, 1.2],\n",
       "       [6.4, 2.9, 4.3, 1.3],\n",
       "       [6.6, 3. , 4.4, 1.4],\n",
       "       [6.8, 2.8, 4.8, 1.4],\n",
       "       [6.7, 3. , 5. , 1.7],\n",
       "       [6. , 2.9, 4.5, 1.5],\n",
       "       [5.7, 2.6, 3.5, 1. ],\n",
       "       [5.5, 2.4, 3.8, 1.1],\n",
       "       [5.5, 2.4, 3.7, 1. ],\n",
       "       [5.8, 2.7, 3.9, 1.2],\n",
       "       [6. , 2.7, 5.1, 1.6],\n",
       "       [5.4, 3. , 4.5, 1.5],\n",
       "       [6. , 3.4, 4.5, 1.6],\n",
       "       [6.7, 3.1, 4.7, 1.5],\n",
       "       [6.3, 2.3, 4.4, 1.3],\n",
       "       [5.6, 3. , 4.1, 1.3],\n",
       "       [5.5, 2.5, 4. , 1.3],\n",
       "       [5.5, 2.6, 4.4, 1.2],\n",
       "       [6.1, 3. , 4.6, 1.4],\n",
       "       [5.8, 2.6, 4. , 1.2],\n",
       "       [5. , 2.3, 3.3, 1. ],\n",
       "       [5.6, 2.7, 4.2, 1.3],\n",
       "       [5.7, 3. , 4.2, 1.2],\n",
       "       [5.7, 2.9, 4.2, 1.3],\n",
       "       [6.2, 2.9, 4.3, 1.3],\n",
       "       [5.1, 2.5, 3. , 1.1],\n",
       "       [5.7, 2.8, 4.1, 1.3],\n",
       "       [6.3, 3.3, 6. , 2.5],\n",
       "       [5.8, 2.7, 5.1, 1.9],\n",
       "       [7.1, 3. , 5.9, 2.1],\n",
       "       [6.3, 2.9, 5.6, 1.8],\n",
       "       [6.5, 3. , 5.8, 2.2],\n",
       "       [7.6, 3. , 6.6, 2.1],\n",
       "       [4.9, 2.5, 4.5, 1.7],\n",
       "       [7.3, 2.9, 6.3, 1.8],\n",
       "       [6.7, 2.5, 5.8, 1.8],\n",
       "       [7.2, 3.6, 6.1, 2.5],\n",
       "       [6.5, 3.2, 5.1, 2. ],\n",
       "       [6.4, 2.7, 5.3, 1.9],\n",
       "       [6.8, 3. , 5.5, 2.1],\n",
       "       [5.7, 2.5, 5. , 2. ],\n",
       "       [5.8, 2.8, 5.1, 2.4],\n",
       "       [6.4, 3.2, 5.3, 2.3],\n",
       "       [6.5, 3. , 5.5, 1.8],\n",
       "       [7.7, 3.8, 6.7, 2.2],\n",
       "       [7.7, 2.6, 6.9, 2.3],\n",
       "       [6. , 2.2, 5. , 1.5],\n",
       "       [6.9, 3.2, 5.7, 2.3],\n",
       "       [5.6, 2.8, 4.9, 2. ],\n",
       "       [7.7, 2.8, 6.7, 2. ],\n",
       "       [6.3, 2.7, 4.9, 1.8],\n",
       "       [6.7, 3.3, 5.7, 2.1],\n",
       "       [7.2, 3.2, 6. , 1.8],\n",
       "       [6.2, 2.8, 4.8, 1.8],\n",
       "       [6.1, 3. , 4.9, 1.8],\n",
       "       [6.4, 2.8, 5.6, 2.1],\n",
       "       [7.2, 3. , 5.8, 1.6],\n",
       "       [7.4, 2.8, 6.1, 1.9],\n",
       "       [7.9, 3.8, 6.4, 2. ],\n",
       "       [6.4, 2.8, 5.6, 2.2],\n",
       "       [6.3, 2.8, 5.1, 1.5],\n",
       "       [6.1, 2.6, 5.6, 1.4],\n",
       "       [7.7, 3. , 6.1, 2.3],\n",
       "       [6.3, 3.4, 5.6, 2.4],\n",
       "       [6.4, 3.1, 5.5, 1.8],\n",
       "       [6. , 3. , 4.8, 1.8],\n",
       "       [6.9, 3.1, 5.4, 2.1],\n",
       "       [6.7, 3.1, 5.6, 2.4],\n",
       "       [6.9, 3.1, 5.1, 2.3],\n",
       "       [5.8, 2.7, 5.1, 1.9],\n",
       "       [6.8, 3.2, 5.9, 2.3],\n",
       "       [6.7, 3.3, 5.7, 2.5],\n",
       "       [6.7, 3. , 5.2, 2.3],\n",
       "       [6.3, 2.5, 5. , 1.9],\n",
       "       [6.5, 3. , 5.2, 2. ],\n",
       "       [6.2, 3.4, 5.4, 2.3],\n",
       "       [5.9, 3. , 5.1, 1.8]])"
      ]
     },
     "execution_count": 234,
     "metadata": {},
     "output_type": "execute_result"
    }
   ],
   "source": [
    "features"
   ]
  },
  {
   "cell_type": "markdown",
   "metadata": {
    "id": "30mkWyeOJSV0"
   },
   "source": [
    "In the next cell, use a Boolean array to return all the rows representing members of class 2 in the iris data set (the Boolean array is not the answer; it is used in retrieving the answer)."
   ]
  },
  {
   "cell_type": "code",
   "execution_count": 236,
   "metadata": {},
   "outputs": [
    {
     "data": {
      "text/plain": [
       "array([0, 0, 0, 0, 0, 0, 0, 0, 0, 0, 0, 0, 0, 0, 0, 0, 0, 0, 0, 0, 0, 0,\n",
       "       0, 0, 0, 0, 0, 0, 0, 0, 0, 0, 0, 0, 0, 0, 0, 0, 0, 0, 0, 0, 0, 0,\n",
       "       0, 0, 0, 0, 0, 0, 1, 1, 1, 1, 1, 1, 1, 1, 1, 1, 1, 1, 1, 1, 1, 1,\n",
       "       1, 1, 1, 1, 1, 1, 1, 1, 1, 1, 1, 1, 1, 1, 1, 1, 1, 1, 1, 1, 1, 1,\n",
       "       1, 1, 1, 1, 1, 1, 1, 1, 1, 1, 1, 1, 2, 2, 2, 2, 2, 2, 2, 2, 2, 2,\n",
       "       2, 2, 2, 2, 2, 2, 2, 2, 2, 2, 2, 2, 2, 2, 2, 2, 2, 2, 2, 2, 2, 2,\n",
       "       2, 2, 2, 2, 2, 2, 2, 2, 2, 2, 2, 2, 2, 2, 2, 2, 2, 2])"
      ]
     },
     "execution_count": 236,
     "metadata": {},
     "output_type": "execute_result"
    }
   ],
   "source": [
    "target"
   ]
  },
  {
   "cell_type": "code",
   "execution_count": 235,
   "metadata": {
    "id": "b9epMASDJSV0"
   },
   "outputs": [
    {
     "data": {
      "text/plain": [
       "array([False, False, False, False, False, False, False, False, False,\n",
       "       False, False, False, False, False, False, False, False, False,\n",
       "       False, False, False, False, False, False, False, False, False,\n",
       "       False, False, False, False, False, False, False, False, False,\n",
       "       False, False, False, False, False, False, False, False, False,\n",
       "       False, False, False, False, False, False, False, False, False,\n",
       "       False, False, False, False, False, False, False, False, False,\n",
       "       False, False, False, False, False, False, False, False, False,\n",
       "       False, False, False, False, False, False, False, False, False,\n",
       "       False, False, False, False, False, False, False, False, False,\n",
       "       False, False, False, False, False, False, False, False, False,\n",
       "       False,  True,  True,  True,  True,  True,  True,  True,  True,\n",
       "        True,  True,  True,  True,  True,  True,  True,  True,  True,\n",
       "        True,  True,  True,  True,  True,  True,  True,  True,  True,\n",
       "        True,  True,  True,  True,  True,  True,  True,  True,  True,\n",
       "        True,  True,  True,  True,  True,  True,  True,  True,  True,\n",
       "        True,  True,  True,  True,  True,  True])"
      ]
     },
     "execution_count": 235,
     "metadata": {},
     "output_type": "execute_result"
    }
   ],
   "source": [
    "target == 2"
   ]
  },
  {
   "cell_type": "code",
   "execution_count": 242,
   "metadata": {},
   "outputs": [
    {
     "data": {
      "text/plain": [
       "array([2, 2, 2, 2, 2, 2, 2, 2, 2, 2, 2, 2, 2, 2, 2, 2, 2, 2, 2, 2, 2, 2,\n",
       "       2, 2, 2, 2, 2, 2, 2, 2, 2, 2, 2, 2, 2, 2, 2, 2, 2, 2, 2, 2, 2, 2,\n",
       "       2, 2, 2, 2, 2, 2])"
      ]
     },
     "execution_count": 242,
     "metadata": {},
     "output_type": "execute_result"
    }
   ],
   "source": [
    "target[target == 2]"
   ]
  },
  {
   "cell_type": "code",
   "execution_count": 263,
   "metadata": {},
   "outputs": [
    {
     "data": {
      "text/plain": [
       "array([[6.3, 3.3, 6. , 2.5],\n",
       "       [5.8, 2.7, 5.1, 1.9],\n",
       "       [7.1, 3. , 5.9, 2.1],\n",
       "       [6.3, 2.9, 5.6, 1.8],\n",
       "       [6.5, 3. , 5.8, 2.2],\n",
       "       [7.6, 3. , 6.6, 2.1],\n",
       "       [4.9, 2.5, 4.5, 1.7],\n",
       "       [7.3, 2.9, 6.3, 1.8],\n",
       "       [6.7, 2.5, 5.8, 1.8],\n",
       "       [7.2, 3.6, 6.1, 2.5],\n",
       "       [6.5, 3.2, 5.1, 2. ],\n",
       "       [6.4, 2.7, 5.3, 1.9],\n",
       "       [6.8, 3. , 5.5, 2.1],\n",
       "       [5.7, 2.5, 5. , 2. ],\n",
       "       [5.8, 2.8, 5.1, 2.4],\n",
       "       [6.4, 3.2, 5.3, 2.3],\n",
       "       [6.5, 3. , 5.5, 1.8],\n",
       "       [7.7, 3.8, 6.7, 2.2],\n",
       "       [7.7, 2.6, 6.9, 2.3],\n",
       "       [6. , 2.2, 5. , 1.5],\n",
       "       [6.9, 3.2, 5.7, 2.3],\n",
       "       [5.6, 2.8, 4.9, 2. ],\n",
       "       [7.7, 2.8, 6.7, 2. ],\n",
       "       [6.3, 2.7, 4.9, 1.8],\n",
       "       [6.7, 3.3, 5.7, 2.1],\n",
       "       [7.2, 3.2, 6. , 1.8],\n",
       "       [6.2, 2.8, 4.8, 1.8],\n",
       "       [6.1, 3. , 4.9, 1.8],\n",
       "       [6.4, 2.8, 5.6, 2.1],\n",
       "       [7.2, 3. , 5.8, 1.6],\n",
       "       [7.4, 2.8, 6.1, 1.9],\n",
       "       [7.9, 3.8, 6.4, 2. ],\n",
       "       [6.4, 2.8, 5.6, 2.2],\n",
       "       [6.3, 2.8, 5.1, 1.5],\n",
       "       [6.1, 2.6, 5.6, 1.4],\n",
       "       [7.7, 3. , 6.1, 2.3],\n",
       "       [6.3, 3.4, 5.6, 2.4],\n",
       "       [6.4, 3.1, 5.5, 1.8],\n",
       "       [6. , 3. , 4.8, 1.8],\n",
       "       [6.9, 3.1, 5.4, 2.1],\n",
       "       [6.7, 3.1, 5.6, 2.4],\n",
       "       [6.9, 3.1, 5.1, 2.3],\n",
       "       [5.8, 2.7, 5.1, 1.9],\n",
       "       [6.8, 3.2, 5.9, 2.3],\n",
       "       [6.7, 3.3, 5.7, 2.5],\n",
       "       [6.7, 3. , 5.2, 2.3],\n",
       "       [6.3, 2.5, 5. , 1.9],\n",
       "       [6.5, 3. , 5.2, 2. ],\n",
       "       [6.2, 3.4, 5.4, 2.3],\n",
       "       [5.9, 3. , 5.1, 1.8]])"
      ]
     },
     "execution_count": 263,
     "metadata": {},
     "output_type": "execute_result"
    }
   ],
   "source": [
    "features[target == 2] # I believe this is what was required - they way I understood: all the data corresponding to class 2 "
   ]
  },
  {
   "cell_type": "markdown",
   "metadata": {
    "id": "LD7NX3Y2JSV2"
   },
   "source": [
    "**Extra credit**:  In the next cell write an expression -- or expressions -- which returns\n",
    "all the rows of `features` representing members of class 2 whose column 3 value is greater than 1.8.\n",
    "\n",
    "Two solutions: \n",
    "\n",
    "1. One way is to set a variable to the result of one of your answers to the last two questions. That result is an array, and you can do more indexing on it.  \n",
    "2. Another way that expands yoiur skill set more is to use a Boolean operator to combine conditions (note you will need to wrap parentheses around your conditions before combining them with the Boolean operator)."
   ]
  },
  {
   "cell_type": "code",
   "execution_count": 266,
   "metadata": {},
   "outputs": [
    {
     "name": "stdout",
     "output_type": "stream",
     "text": [
      "[2.5 1.9 2.1 1.8 2.2 2.1 1.7 1.8 1.8 2.5 2.  1.9 2.1 2.  2.4 2.3 1.8 2.2\n",
      " 2.3 1.5 2.3 2.  2.  1.8 2.1 1.8 1.8 1.8 2.1 1.6 1.9 2.  2.2 1.5 1.4 2.3\n",
      " 2.4 1.8 1.8 2.1 2.4 2.3 1.9 2.3 2.5 2.3 1.9 2.  2.3 1.8]\n",
      "[2.5 1.9 2.1 2.2 2.1 2.5 2.  1.9 2.1 2.  2.4 2.3 2.2 2.3 2.3 2.  2.  2.1\n",
      " 2.1 1.9 2.  2.2 2.3 2.4 2.1 2.4 2.3 1.9 2.3 2.5 2.3 1.9 2.  2.3]\n"
     ]
    }
   ],
   "source": [
    "# Attempt\n",
    "arr = features[target == 2] # Storing the answer to the previous question in a new variable\n",
    "col3 = arr[:,2] # Column 3\n",
    "# Here I found that all the numbers in the 3rd column are greater than 1.8; maybe I messed up, but I checked several times and still looks good\n",
    "# print(col3)\n",
    "# print(col3[col3 > 1.8]) \n",
    "# To still do some filtering, I used the last column:\n",
    "col4 = arr[:,3]\n",
    "print(col4)\n",
    "print(col4[col4 > 1.8]) "
   ]
  },
  {
   "cell_type": "markdown",
   "metadata": {
    "id": "TopuBwRpqmYw"
   },
   "source": [
    "Help with Solution 2.  The following example illustrates wrapping parentheses around conditions.\n",
    "Say you have X an array of numbers and you want a Boolean array\n",
    "that tells you exactly which numbers are even (`X%2 == 0`) but not greater than 4 (`not (X > 4)`).  You can\n",
    "combine these two conditions as follows:"
   ]
  },
  {
   "cell_type": "code",
   "execution_count": null,
   "metadata": {
    "id": "Hake5bryJSV2",
    "outputId": "c3dc8276-0d62-4678-b574-2c6f139a1c77"
   },
   "outputs": [
    {
     "name": "stdout",
     "output_type": "stream",
     "text": [
      "[[-3 -2 -1  0  1]\n",
      " [ 2  3  4  5  6]\n",
      " [ 7  8  9 10 11]]\n"
     ]
    },
    {
     "data": {
      "text/plain": [
       "array([-2,  0,  2,  4])"
      ]
     },
     "execution_count": 56,
     "metadata": {},
     "output_type": "execute_result"
    }
   ],
   "source": [
    "X = np.arange(-3,12).reshape((3,5))\n",
    "print(X)\n",
    "X[(X%2 == 0) & ~(X > 4)]"
   ]
  },
  {
   "cell_type": "markdown",
   "metadata": {
    "id": "kSQGweTtqmYw"
   },
   "source": [
    "Your solution or solutions to the Extra Credit problem in the next cell."
   ]
  },
  {
   "cell_type": "code",
   "execution_count": 350,
   "metadata": {
    "id": "2RmCrJdzqmYw"
   },
   "outputs": [
    {
     "data": {
      "text/plain": [
       "array([[6.3, 3.3, 6. , 2.5],\n",
       "       [5.8, 2.7, 5.1, 1.9],\n",
       "       [7.1, 3. , 5.9, 2.1],\n",
       "       [6.5, 3. , 5.8, 2.2],\n",
       "       [7.6, 3. , 6.6, 2.1],\n",
       "       [7.2, 3.6, 6.1, 2.5],\n",
       "       [6.5, 3.2, 5.1, 2. ],\n",
       "       [6.4, 2.7, 5.3, 1.9],\n",
       "       [6.8, 3. , 5.5, 2.1],\n",
       "       [5.7, 2.5, 5. , 2. ],\n",
       "       [5.8, 2.8, 5.1, 2.4],\n",
       "       [6.4, 3.2, 5.3, 2.3],\n",
       "       [7.7, 3.8, 6.7, 2.2],\n",
       "       [7.7, 2.6, 6.9, 2.3],\n",
       "       [6.9, 3.2, 5.7, 2.3],\n",
       "       [5.6, 2.8, 4.9, 2. ],\n",
       "       [7.7, 2.8, 6.7, 2. ],\n",
       "       [6.7, 3.3, 5.7, 2.1],\n",
       "       [6.4, 2.8, 5.6, 2.1],\n",
       "       [7.4, 2.8, 6.1, 1.9],\n",
       "       [7.9, 3.8, 6.4, 2. ],\n",
       "       [6.4, 2.8, 5.6, 2.2],\n",
       "       [7.7, 3. , 6.1, 2.3],\n",
       "       [6.3, 3.4, 5.6, 2.4],\n",
       "       [6.9, 3.1, 5.4, 2.1],\n",
       "       [6.7, 3.1, 5.6, 2.4],\n",
       "       [6.9, 3.1, 5.1, 2.3],\n",
       "       [5.8, 2.7, 5.1, 1.9],\n",
       "       [6.8, 3.2, 5.9, 2.3],\n",
       "       [6.7, 3.3, 5.7, 2.5],\n",
       "       [6.7, 3. , 5.2, 2.3],\n",
       "       [6.3, 2.5, 5. , 1.9],\n",
       "       [6.5, 3. , 5.2, 2. ],\n",
       "       [6.2, 3.4, 5.4, 2.3]])"
      ]
     },
     "execution_count": 350,
     "metadata": {},
     "output_type": "execute_result"
    }
   ],
   "source": [
    "# One more attempt\n",
    "# arr = ((features[:,3][target == 2]) & (features[:,3] > 1.8)) # Not working\n",
    "# print((features[:,3]) or (features[target == 2]))\n",
    "features[(target == 2) & (features[:,3] > 1.8)] # Outputs all the rows where value in certain column is greater than 1.8\n",
    "# arr = (features[:,3][target == 2]) & (features[:,3] > 1.8)\n"
   ]
  },
  {
   "cell_type": "markdown",
   "metadata": {
    "id": "yX3ltxTdJSV4"
   },
   "source": [
    "## Part One\n",
    "\n",
    "### California Housing data exercise"
   ]
  },
  {
   "cell_type": "code",
   "execution_count": 299,
   "metadata": {
    "id": "6VYDctg-qmYx",
    "outputId": "64dfe5fb-2f05-4581-d7fb-908bc700c3f8"
   },
   "outputs": [
    {
     "name": "stdout",
     "output_type": "stream",
     "text": [
      "(20640, 8) (20640,)\n"
     ]
    }
   ],
   "source": [
    "from sklearn.datasets import fetch_california_housing\n",
    "housing = fetch_california_housing()\n",
    "X,Y = housing.data,housing.target\n",
    "print(X.shape,Y.shape)"
   ]
  },
  {
   "cell_type": "markdown",
   "metadata": {
    "id": "CEJyjWa0JSV7"
   },
   "source": [
    "The cell above loads the `sklearn` California Housing Dataset"
   ]
  },
  {
   "cell_type": "markdown",
   "metadata": {
    "id": "P88UbX7jqmYx"
   },
   "source": [
    "### California Housing Data Set Characteristics\n",
    "\n",
    "    :Number of Instances: 20640\n",
    "\n",
    "    :Number of Attributes: 8 numeric, predictive attributes and the target\n",
    "\n",
    "    :Attribute Information:\n",
    "        - MedInc        median income in block group\n",
    "        - HouseAge      median house age in block group\n",
    "        - AveRooms      average number of rooms per household\n",
    "        - AveBedrms     average number of bedrooms per household\n",
    "        - Population    block group population\n",
    "        - AveOccup      average number of household members\n",
    "        - Latitude      block group latitude\n",
    "        - Longitude     block group longitude\n",
    "\n",
    "    :Missing Attribute Values: None\n",
    "\n",
    "This dataset was obtained from the StatLib repository.\n",
    "https://www.dcc.fc.up.pt/~ltorgo/Regression/cal_housing.html\n",
    "\n",
    "The target variable is the median house value for California districts,\n",
    "expressed in hundreds of thousands of dollars ($100,000).\n",
    "\n",
    "This dataset was derived from the 1990 U.S. census, using one row per census\n",
    "block group. A block group is the smallest geographical unit for which the U.S.\n",
    "Census Bureau publishes sample data (a block group typically has a population\n",
    "of 600 to 3,000 people).\n",
    "\n",
    "An household is a group of people residing within a home. Since the average\n",
    "number of rooms and bedrooms in this dataset are provided per household, these\n",
    "columns may take surprisingly large values for block groups with few households\n",
    "and many empty houses, such as vacation resorts.\n",
    "\n",
    ".. topic:: References\n",
    "\n",
    "    - Pace, R. Kelley and Ronald Barry, Sparse Spatial Autoregressions,\n",
    "      Statistics and Probability Letters, 33 (1997) 291-297\n",
    "\n",
    "The array `X`, defined in the cell above, is a 20,640x8 array containing the values of all\n",
    "these variables for 20,640 California block groups.\n",
    "\n",
    "The information stored in Y, the value to be predicted is\n",
    "\n",
    "```\n",
    "       - MEDV     Median value of owner-occupied homes in $1000's\n",
    " \n",
    "```"
   ]
  },
  {
   "cell_type": "markdown",
   "metadata": {
    "id": "b-UwJTuQqmYx"
   },
   "source": [
    "#### Exercise\n",
    "\n",
    "1.  Construct an expression or expressions that creates a new table that omits all blocks whose average number of bedrooms is greater than 10.\n",
    "2.  Construct an expression or expressions that creates a new table containing all columns except the \n",
    "    `MedInc` column.  This will be our new X.  Also create a new Y containing the `MedInc` column.\n",
    "    This is to help someone research how to predict median income using the other variables.  \n",
    "    The shape of the new X should\n",
    "    20,640x7 and the new Y should be a 1D array with length 20,640.  Show that you checked this in your answer."
   ]
  },
  {
   "cell_type": "code",
   "execution_count": 41,
   "metadata": {
    "id": "L4kaM8xuJSV8"
   },
   "outputs": [
    {
     "name": "stdout",
     "output_type": "stream",
     "text": [
      "(20631, 8) (20640, 8)\n"
     ]
    }
   ],
   "source": [
    "# 1. Create a new table that omits all blocks whose average number of bedrooms is greater than 10\n",
    "# AveBedrms - Column = 4, X[:,3] \n",
    "# X_omitted = X[X[:,3] > 10] # The data we want to omit\n",
    "# print(X_omitted.shape)\n",
    "X_updated = X[~(X[:,3] > 10)]\n",
    "print(X_updated.shape, X.shape)"
   ]
  },
  {
   "cell_type": "code",
   "execution_count": 275,
   "metadata": {},
   "outputs": [
    {
     "name": "stdout",
     "output_type": "stream",
     "text": [
      "********************************************************************\n",
      "X's 1st column content: [8.3252 8.3014 7.2574 ... 1.7    1.8672 2.3886]\n",
      "X_new's shape: (20640, 7)\n",
      "X_new's content: [[  41.            6.98412698    1.02380952 ...    2.55555556\n",
      "    37.88       -122.23      ]\n",
      " [  21.            6.23813708    0.97188049 ...    2.10984183\n",
      "    37.86       -122.22      ]\n",
      " [  52.            8.28813559    1.07344633 ...    2.80225989\n",
      "    37.85       -122.24      ]\n",
      " ...\n",
      " [  17.            5.20554273    1.12009238 ...    2.3256351\n",
      "    39.43       -121.22      ]\n",
      " [  18.            5.32951289    1.17191977 ...    2.12320917\n",
      "    39.43       -121.32      ]\n",
      " [  16.            5.25471698    1.16226415 ...    2.61698113\n",
      "    39.37       -121.24      ]]\n",
      "********************************************************************\n",
      "Y_new's shape: (20640,)\n",
      "Y_new's content [8.3252 8.3014 7.2574 ... 1.7    1.8672 2.3886]\n"
     ]
    }
   ],
   "source": [
    "# 2. Create a new table containing all columns except the MedInc column\n",
    "# This will be our new X\n",
    "# MedInc - Column = 1, X[:,0]\n",
    "\n",
    "# X_new = X[:, ~np.all(X < 1, axis = 0)]\n",
    "# print(X_new.shape)\n",
    "# print(X_new)\n",
    "# print(X)\n",
    "# X_new = ((X) & (~X_tbomitted))\n",
    "\n",
    "\n",
    "# X_tbomitted =X[:,0].astype(int)\n",
    "# X_new =X[ ~(X_tbomitted)]\n",
    "# X_new = X_new[np.logical_and(X[:,], (np.logical_not(X[:,0])))]\n",
    "\n",
    "############ Finaly after so much struggle\n",
    "X_new = X[:, 1:]\n",
    "# print(X_new)\n",
    "print(\"********************************************************************\")\n",
    "print(\"X's 1st column content:\", X[:,0])\n",
    "print(\"X_new's shape:\", X_new.shape)\n",
    "print(\"X_new's content:\", X_new)\n",
    "print(\"********************************************************************\")\n",
    "# Create a new Y containing the MedInc column\n",
    "Y_new = X[:,0]\n",
    "print(\"Y_new's shape:\", Y_new.shape)\n",
    "print(\"Y_new's content\", Y_new)"
   ]
  },
  {
   "cell_type": "markdown",
   "metadata": {
    "id": "hWT0ECfxqmYy"
   },
   "source": [
    "#### Exercise\n",
    "\n",
    "Write an expression that computes how many blocks in the data set \n",
    "have an average house age greater than 25 years old and have a population greater than 5,000.\n",
    "\n",
    "Note there are two solutions.  One involves finding the set of rows that\n",
    "satisfy the constraint and computing its length.  Another \n",
    "finds the Boolean mask that represents those rows and computes\n",
    "the number of `True`s in it.  See if you can find both"
   ]
  },
  {
   "cell_type": "code",
   "execution_count": 358,
   "metadata": {
    "id": "1Thi77QJqmYy",
    "outputId": "423d21cd-7149-4f8d-e7bb-4ec583d2d6ce"
   },
   "outputs": [
    {
     "name": "stdout",
     "output_type": "stream",
     "text": [
      "23\n"
     ]
    }
   ],
   "source": [
    "# This implementation should find the Boolean mask that represents those rows and computes the number of Trues in it\n",
    "HouseAge = X[:,1] > 25\n",
    "# print(HouseAge.sum())\n",
    "# print(HouseAge.shape)\n",
    "Population = X[:,4] > 5000\n",
    "# print(Population.sum())\n",
    "# print(Population.shape)\n",
    "find = (HouseAge) & (Population)\n",
    "print(find.sum())"
   ]
  },
  {
   "cell_type": "code",
   "execution_count": 366,
   "metadata": {
    "id": "CFyHVTnGqmYy",
    "outputId": "4b31a8b2-84e8-42b6-8781-b060338fc10c"
   },
   "outputs": [
    {
     "name": "stdout",
     "output_type": "stream",
     "text": [
      "23\n",
      "23\n"
     ]
    }
   ],
   "source": [
    "# This implementation should  involve finding the set of rows that satisfy the constraint and computing its length\n",
    "HouseAge = X[:,1] > 25\n",
    "# print(HouseAge.sum())\n",
    "# print(HouseAge.shape)\n",
    "Population = X[:,4] > 5000\n",
    "# print(Population.sum())\n",
    "# print(Population.shape)\n",
    "find = X[(HouseAge & Population)]\n",
    "print(find.shape[0])\n",
    "print(len(find))"
   ]
  },
  {
   "cell_type": "markdown",
   "metadata": {
    "id": "xgq4m8QrqmYy"
   },
   "source": [
    "Checks!"
   ]
  },
  {
   "cell_type": "markdown",
   "metadata": {
    "id": "QmTOCELtqmYy"
   },
   "source": [
    "## Part two"
   ]
  },
  {
   "cell_type": "markdown",
   "metadata": {
    "id": "2xW1nNvRqmYy"
   },
   "source": [
    "The answers for the following section are available on the inclass Boolean exercises solution notebook."
   ]
  },
  {
   "cell_type": "markdown",
   "metadata": {
    "id": "F2-lS9n39ZOY"
   },
   "source": [
    "# Boolean combinations\n",
    "\n",
    "In this section we load forest covertype data.  This is a multi class dataset that has data for 7 different forest covertypes (stored in the `target` attribute).  There are 581,012 forest plots with 54 attributes each (stored ina 581012x54 array) The first ten attributes are numerical, the last 44 are Boolean (true/false) attributes. Each of the Boolean attributes represents a qualitative soil type attribute which is either present or absent.  We will refer to all the attributes by their column index.  Thus the first attribute is attribute 0 and the last (a Boolean attribute) is attribute 53."
   ]
  },
  {
   "cell_type": "code",
   "execution_count": null,
   "metadata": {
    "id": "t0a3FWEa49nE",
    "outputId": "82e73f18-818e-4029-aa6a-e0dafd8af171"
   },
   "outputs": [],
   "source": [
    "#from sklearn.datasets import load_wine\n",
    "#wdata = load_wine()\n",
    "from sklearn.datasets import fetch_covtype\n",
    "data = fetch_covtype()\n",
    "print(data.data.shape)  # data.data is the 581012 x 54 array\n",
    "print(data.target.shape)     # data.target contains the class for each instance"
   ]
  },
  {
   "cell_type": "markdown",
   "metadata": {
    "id": "pldS-UVgqmYz"
   },
   "source": [
    "Th first 26 columns of the plot index 50_210:"
   ]
  },
  {
   "cell_type": "code",
   "execution_count": 2,
   "metadata": {
    "id": "79Rb0q34qmYz",
    "outputId": "bc81edac-7087-451b-83a4-0777aaf07c65"
   },
   "outputs": [
    {
     "data": {
      "text/plain": [
       "array([2.988e+03, 2.250e+02, 2.000e+00, 5.520e+02, 9.200e+01, 5.492e+03,\n",
       "       2.160e+02, 2.410e+02, 1.620e+02, 4.290e+03, 1.000e+00, 0.000e+00,\n",
       "       0.000e+00, 0.000e+00, 0.000e+00, 0.000e+00, 0.000e+00, 0.000e+00,\n",
       "       0.000e+00, 0.000e+00, 0.000e+00, 0.000e+00, 0.000e+00, 0.000e+00,\n",
       "       0.000e+00, 0.000e+00])"
      ]
     },
     "execution_count": 2,
     "metadata": {},
     "output_type": "execute_result"
    }
   ],
   "source": [
    "data.data[50_210,:26]"
   ]
  },
  {
   "cell_type": "markdown",
   "metadata": {
    "id": "Lel8juADqmYz"
   },
   "source": [
    "The last 28 column of the plot index 50_210:"
   ]
  },
  {
   "cell_type": "code",
   "execution_count": 3,
   "metadata": {
    "id": "OwdQVYkGqmYz",
    "outputId": "7af2e319-e131-4ca9-da4f-c165c60060ed"
   },
   "outputs": [
    {
     "data": {
      "text/plain": [
       "array([0., 0., 0., 0., 0., 0., 0., 0., 0., 0., 0., 0., 0., 0., 0., 0., 1.,\n",
       "       0., 0., 0., 0., 0., 0., 0., 0., 0., 0., 0.])"
      ]
     },
     "execution_count": 3,
     "metadata": {},
     "output_type": "execute_result"
    }
   ],
   "source": [
    "data.data[50_210,26:]"
   ]
  },
  {
   "cell_type": "markdown",
   "metadata": {
    "id": "nlOSWhkBMKAK"
   },
   "source": [
    "[The Boolean arrays and masks notebook](https://github.com/gawron/python-for-social-science/blob/master/numpy/02_06_Boolean_Arrays_and_Masks.ipynb) discusses combining Boolean arrays with Boolean operators `&` (conceptually 'and') and `|` (conceptually 'or').   We can add to that `~` (conceptually 'not') to complete the list.  Look at the examples there.\n",
    "\n",
    " \n",
    "The `sklearn` description of the covertype dataset is printed in the cell below. For a fuller understanding of the attributes in the dataset you might want to look at [the original UCI data set description.](https://archive.ics.uci.edu/ml/datasets/Covertype)"
   ]
  },
  {
   "cell_type": "markdown",
   "metadata": {
    "id": "ZMIAcgiyqmY0"
   },
   "source": [
    "Forest covertypes\n",
    "---------------------\n",
    "\n",
    "The samples in this dataset correspond to 30×30m patches of forest in the US,\n",
    "collected for the task of predicting each patch's cover type,\n",
    "i.e. the dominant species of tree.\n",
    "There are seven covertypes, making this a multiclass classification problem.\n",
    "Each sample has 54 features, described on the\n",
    "[dataset's homepage](https://archive.ics.uci.edu/ml/datasets/Covertype>).\n",
    "Some of the features are boolean indicators\n",
    "while others are discrete or continuous measurements.\n",
    "\n",
    "**Data Set Characteristics:**\n",
    "\n",
    "    =================   ============\n",
    "    Classes                        7\n",
    "    Samples total             581012\n",
    "    Dimensionality                54\n",
    "    Features                     int\n",
    "    =================   ============\n",
    "\n",
    "The function `sklearn.datasets.fetch_covtype` will load the covertype dataset;\n",
    "it returns a dictionary-like object\n",
    "with the feature matrix in the ``data`` member\n",
    "and the target values in ``target``.\n",
    "The dataset will be downloaded from the web if necessary."
   ]
  },
  {
   "cell_type": "markdown",
   "metadata": {
    "id": "bXZsBxT6Br8C"
   },
   "source": [
    "`data.data` attribute is a `numpy` array containing the array.  As an example to help with this problem.  To compute an an array containing just the rows in which attribute 0 is greater than 50 you do. "
   ]
  },
  {
   "cell_type": "code",
   "execution_count": 4,
   "metadata": {
    "colab": {
     "base_uri": "https://localhost:8080/",
     "height": 34
    },
    "id": "dVZgDsBLLtxN",
    "outputId": "ff49c528-5058-41b1-d29e-5863eec5c58c"
   },
   "outputs": [
    {
     "name": "stdout",
     "output_type": "stream",
     "text": [
      "(581012, 54)\n"
     ]
    }
   ],
   "source": [
    "WW = data.data > 50\n",
    "print(WW.shape)"
   ]
  },
  {
   "cell_type": "markdown",
   "metadata": {
    "id": "xgTX9Qm1A-va"
   },
   "source": [
    "The covertypes (or dominant tree) for each forest plot are in `data.target`, which is often the attribute used to store the classes in an `sklearn` clasification dataset.  There is data for 581,012 plots\n",
    "so this is a 1D array of length 581,012.  \n",
    "\n",
    "There are 7 distinct fiorest tyoes that a plot can have."
   ]
  },
  {
   "cell_type": "code",
   "execution_count": 5,
   "metadata": {
    "colab": {
     "base_uri": "https://localhost:8080/",
     "height": 51
    },
    "id": "uVjutdGL7KPL",
    "outputId": "a827e84f-bec9-4941-d645-d17b2a077fb7"
   },
   "outputs": [
    {
     "name": "stdout",
     "output_type": "stream",
     "text": [
      "581012\n",
      "{1, 2, 3, 4, 5, 6, 7}\n"
     ]
    }
   ],
   "source": [
    "print(len(data.target))\n",
    "print(set(data.target))"
   ]
  },
  {
   "cell_type": "markdown",
   "metadata": {
    "id": "NvD9tPG-qmY1"
   },
   "source": [
    "### The problem"
   ]
  },
  {
   "cell_type": "markdown",
   "metadata": {
    "id": "L-fcMVr_Ls7q"
   },
   "source": [
    "1. Write an expression that retrieves all rows that a value greater than 300 in the column indexed 1 (second column) and a value equal to 1 for the column indexed 12. \n",
    "\n",
    "2. Write an expression that retrieves the rows from either class 3 or class 5  that have a value greater than 300 in the column indexed 1 (second column) and a value equal to 1 for the column indexed 12. \n",
    "\n",
    "3. Write an expression that counts the rows from either class 3 or class 5  that have a value greater than 300 in the column indexed 1 (second column) and a value equal to 1 for the column indexed 12. "
   ]
  },
  {
   "cell_type": "code",
   "execution_count": 30,
   "metadata": {
    "id": "ZGMw3g2VqmY1",
    "scrolled": true
   },
   "outputs": [
    {
     "name": "stdout",
     "output_type": "stream",
     "text": [
      "102696\n",
      "253364\n",
      "45076\n"
     ]
    }
   ],
   "source": [
    "# Write an expression that retrieves all rows that a value greater than 300 in the column indexed 1 (second column) and \n",
    "# a value equal to 1 for the column indexed 12\n",
    "myData01 = data.data[:,1] > 300\n",
    "print(myData01.sum())\n",
    "# print(data.data[myData01])\n",
    "myData02 = data.data[:,12] == 1.\n",
    "print(myData02.sum())\n",
    "# print(data.data[myData02])\n",
    "myData0 = (myData01) & (myData02)\n",
    "print(myData0.sum())\n",
    "# print(data.data[myData02])"
   ]
  },
  {
   "cell_type": "code",
   "execution_count": 43,
   "metadata": {},
   "outputs": [
    {
     "name": "stdout",
     "output_type": "stream",
     "text": [
      "[[2780.  346.   13. ...    0.    0.    0.]\n",
      " [2725.  353.   19. ...    0.    0.    0.]\n",
      " [2747.  329.   19. ...    0.    0.    0.]\n",
      " ...\n",
      " [2619.  336.   13. ...    0.    0.    0.]\n",
      " [2630.  317.   12. ...    0.    0.    0.]\n",
      " [2633.  309.    9. ...    0.    0.    0.]]\n"
     ]
    }
   ],
   "source": [
    "# Write an expression that retrieves the rows from either class 3 or class 5 that have a value greater than 300 \n",
    "# in the column indexed 1 (second column) and a value equal to 1 for the column indexed 12\n",
    "myData10 = ~((data.target==3) | (data.target==5))\n",
    "# print(myData03.sum())\n",
    "# print(data.data[myData03])\n",
    "myData1 = (myData10) & (myData0)\n",
    "print(data.data[myData1])"
   ]
  },
  {
   "cell_type": "code",
   "execution_count": 44,
   "metadata": {},
   "outputs": [
    {
     "name": "stdout",
     "output_type": "stream",
     "text": [
      "43815\n"
     ]
    }
   ],
   "source": [
    "# Write an expression that counts the rows from either class 3 or class 5 that have a value greater than 300 \n",
    "# in the column indexed 1 (second column) and a value equal to 1 for the column indexed 12\n",
    "print(myData1.sum())"
   ]
  },
  {
   "cell_type": "markdown",
   "metadata": {
    "id": "MdNH13MJ1wu_"
   },
   "source": []
  }
 ],
 "metadata": {
  "colab": {
   "name": "full_numpy_assignment.ipynb",
   "provenance": []
  },
  "kernelspec": {
   "display_name": "Python 3 (ipykernel)",
   "language": "python",
   "name": "python3"
  },
  "language_info": {
   "codemirror_mode": {
    "name": "ipython",
    "version": 3
   },
   "file_extension": ".py",
   "mimetype": "text/x-python",
   "name": "python",
   "nbconvert_exporter": "python",
   "pygments_lexer": "ipython3",
   "version": "3.9.12"
  },
  "name": "_merged",
  "toc": {
   "base_numbering": 1,
   "nav_menu": {},
   "number_sections": true,
   "sideBar": true,
   "skip_h1_title": false,
   "title_cell": "Table of Contents",
   "title_sidebar": "Contents",
   "toc_cell": false,
   "toc_position": {},
   "toc_section_display": true,
   "toc_window_display": false
  }
 },
 "nbformat": 4,
 "nbformat_minor": 1
}
