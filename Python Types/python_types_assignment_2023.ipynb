{
 "cells": [
  {
   "cell_type": "markdown",
   "metadata": {
    "id": "ZIBX7u_RW74U"
   },
   "source": [
    "# Python Types Assignment 2023"
   ]
  },
  {
   "cell_type": "markdown",
   "metadata": {
    "id": "nIt_8QZrW74V"
   },
   "source": [
    "Name/RedID: Lana Pantskalashvili / 823358842"
   ]
  },
  {
   "cell_type": "code",
   "execution_count": null,
   "metadata": {
    "id": "vM3DEFK2oddM"
   },
   "outputs": [],
   "source": []
  },
  {
   "cell_type": "markdown",
   "metadata": {
    "id": "_44r6M2OoddN"
   },
   "source": [
    "General Directions.  First double click on the cell above labeled `Name/RedID` and enter that information.  Then complete the assignment below, answering the questions by writing Python expressions in the code cells provided.  In all cases, check your answers by executing the code cell to verify that the output is appropriate.  In some cases you may have to create code or text (**markup**) cells of your own to provide an answer.  Please be sure you know how to do this (read the [Jupyter Notebook](https://www.dataquest.io/blog/jupyter-notebook-tutorial/) or [Google Colab](https://colab.research.google.com/notebooks/basic_features_overview.ipynb) docs) as it will be a regular part of assignments and exams.\n",
    "\n",
    "After you have completed the assignment to your satisfaction, you can download the notebook to your machine as a Notebook file (extension `.ipynb`) **and** as a Python file (extension `.py`).  The notebook file is for your own use\n",
    "for review and revision.  The Python file is what you will submit on Canvas to receive credit for this assignment. You should keep copies of both and update both if needed.  Despite the weird extension, the Python (.py) file is just a text file and you can look at it using any text editor or viewer and you should do that to verify it contains all your work. Do not edit the file using a text editor (especially Word).  If you find a problem and you want to change something, restart your notebook and  edit that and re-execute any relevant code cells and re-save both the notebook and Python versions.  Submit **only** the Python (.py) file.  Notebook (.ipynb) files will not be opened.\n",
    "\n",
    "When running Google Colab, an alternative to downloading your notebook file to your local machine is to\n",
    "save it to your Google Drive (Menu path: `File > Save a Copy in Drive`).  You can then run it directly\n",
    "from your Google Drive.  My notebook files all appear in a folder on my Google Drive named `Colab Notebooks`.\n",
    "Note that Google executes the `Save a Copy` command by creating a copy with a name containing the prefix `Copy of` (for example,`Copy of python_types_assignment_2023`).  From now on, when you save the notebook, just use the `File > Save`  command, or your Google Drive will contain a chain of copies with ever lengthening names like `Copy of Copy of ....`.\n",
    "\n",
    "It is **highly recommended** that you install an Anaconda Python distribution on your home machine (the latest\n",
    "version is 688 MB and provides Python 3.9) since it has all the basics for the this course and since it allows\n",
    "you to run assignment notebooks on your own machine as Jupyter notebooks (even if you first completed\n",
    "the assignment in Google Colab).  Even if you do not install Python, you can run a saved Notebook in \n",
    "Google Colab as follows:\n",
    "\n",
    ">Go to [https://colab.research.google.com/](https://colab.research.google.com/) and login with your google account. You can choose to import your notebook either from Google drive, a local file, or Github. After you have the notebook open go to the top right and click connect. (Thanks to [Jessica Green at medium.com](https://medium.com/@jessica0greene/running-your-notebooks-in-the-cloud-with-google-colab-4387529bfad4#:~:text=Go%20to%20https%3A%2F%2Fcolab,top%20right%20and%20click%20connect.) for this)."
   ]
  },
  {
   "cell_type": "markdown",
   "metadata": {
    "id": "_3Sm1M10W74W"
   },
   "source": [
    "## Part One"
   ]
  },
  {
   "cell_type": "markdown",
   "metadata": {
    "id": "kWYWYfMiW74W"
   },
   "source": [
    "For the problems in Part One, assume all the definitions in the next cell, and check your answers by evaluating the next cell and verifying that your answers give the required results."
   ]
  },
  {
   "cell_type": "code",
   "execution_count": 5,
   "metadata": {
    "id": "19mvC4k2W74X"
   },
   "outputs": [],
   "source": [
    "# Note: the interpretation we will work with for city distances is that it is a weighted graph representing \n",
    "# city distances.  The weights represent the distance between the cities. \n",
    "city_distances = {'New York': {'Chicago': 790, 'Boston': 215, 'St. Louis': 953, 'Baltimore':188},\n",
    "                   'Chicago': {'Denver': 1_002, 'Omaha': 467, 'Salt Lake City':1_397},\n",
    "                   'Denver': {'Phoenix': 865, 'Salt Lake City': 528, },\n",
    "                   'Phoenix': { 'Albuquerque': 419,  'Reno': 739, 'San Diego': 355},\n",
    "                   'Dallas' : {'Houston': 241}\n",
    "                  }\n",
    "capitals = [ ('France', 'Paris'), ('Italy', 'Rome'), ('Germany', 'Berlin'),  ('England', 'London'),\n",
    "                          ('Sweden', 'Stockholm'), ('Norway', 'Oslo'), ('Poland', 'Warsaw')]\n",
    "country2capital = dict(capitals)\n",
    "dwarves = ('Sneezy', 'Doc', 'Sleepy','Happy','Dopey','Grumpy', 'Bashful')\n",
    "secret_word = \"sesame bagel\"\n",
    "historical_records = [{'name':'Fred Flinstone',\n",
    "                     'spouse': 'Wilma',\n",
    "                       'favorite_tv_shows': ['The Honeymooners', 'The Jetsons'],\n",
    "                      'town of residence': 'Bedrock'},\n",
    "                    {'name':'Barney Rubble',\n",
    "                     'spouse': 'Elizabeth',\n",
    "                     'favorite_tv_shows': ['The Crown', 'Bridgerton'],\n",
    "                      'town of residence': 'Bedrock'},\n",
    "                  ]"
   ]
  },
  {
   "cell_type": "markdown",
   "metadata": {
    "id": "ipI_NV8pW74b"
   },
   "source": [
    "In the problems below,  when you are asked to write an expression that \"accesses\". a particular name, that means your answer should **use** that name.  For example, if asked:\n",
    "\n",
    "\n",
    "   Write an expression that accesses `dwarves` and returns the value `'Grumpy'`.\n",
    "\n",
    "\n",
    "You might answer:\n",
    "\n",
    "```\n",
    "dwarves[-2]\n",
    "```\n",
    "\n",
    "because that is an expression that uses the name `dwarves` and returns the value\n",
    "`\"Grumpy\"`, as illustrated in the next cell."
   ]
  },
  {
   "cell_type": "code",
   "execution_count": 3,
   "metadata": {
    "id": "PLZS5ol9W74c",
    "outputId": "89c6142b-4770-4c1e-e9d6-5f16d17ec41c"
   },
   "outputs": [
    {
     "data": {
      "text/plain": [
       "'Grumpy'"
      ]
     },
     "execution_count": 3,
     "metadata": {},
     "output_type": "execute_result"
    }
   ],
   "source": [
    "dwarves[-2]"
   ]
  },
  {
   "cell_type": "markdown",
   "metadata": {
    "id": "-SdNV4DNW74i"
   },
   "source": [
    "## Exercise One\n",
    "\n",
    "In the next cell, write expression that accesses `dwarves` and returns the value `\"Bashful\"`."
   ]
  },
  {
   "cell_type": "code",
   "execution_count": 4,
   "metadata": {
    "id": "Ic5AnNKuW74j"
   },
   "outputs": [
    {
     "data": {
      "text/plain": [
       "'Bashful'"
      ]
     },
     "execution_count": 4,
     "metadata": {},
     "output_type": "execute_result"
    }
   ],
   "source": [
    "dwarves[-1]"
   ]
  },
  {
   "cell_type": "markdown",
   "metadata": {
    "id": "nrb4FrpQW74m"
   },
   "source": [
    " "
   ]
  },
  {
   "cell_type": "markdown",
   "metadata": {
    "id": "gyonsXZjW74m"
   },
   "source": [
    "## Exercise Two\n",
    "\n",
    "In the next cell, write an expression that accesses `secret_word` and returns the value `\"m\"`.\n",
    "`."
   ]
  },
  {
   "cell_type": "code",
   "execution_count": 5,
   "metadata": {
    "id": "dLKwzgMKW74n",
    "outputId": "110e6599-5bd7-47af-e9cd-072fe25d06c4"
   },
   "outputs": [
    {
     "data": {
      "text/plain": [
       "'m'"
      ]
     },
     "execution_count": 5,
     "metadata": {},
     "output_type": "execute_result"
    }
   ],
   "source": [
    "secret_word[4]"
   ]
  },
  {
   "cell_type": "markdown",
   "metadata": {
    "id": "SqgeJc1jW74p"
   },
   "source": [
    " "
   ]
  },
  {
   "cell_type": "markdown",
   "metadata": {
    "id": "IFmMMNrVW74q"
   },
   "source": [
    "## Exercise Three\n",
    "\n",
    "In the next cell, write an expression that accesses `dwarves` and produces an `IndexError`.  Try to make the index you use to access `dwarves` as small as possible."
   ]
  },
  {
   "cell_type": "code",
   "execution_count": 8,
   "metadata": {
    "id": "DC5oXusOW74r",
    "outputId": "abac2dc5-8210-4a87-cce3-4a24b928f9dc",
    "scrolled": true
   },
   "outputs": [
    {
     "ename": "IndexError",
     "evalue": "tuple index out of range",
     "output_type": "error",
     "traceback": [
      "\u001b[1;31m---------------------------------------------------------------------------\u001b[0m",
      "\u001b[1;31mIndexError\u001b[0m                                Traceback (most recent call last)",
      "Input \u001b[1;32mIn [8]\u001b[0m, in \u001b[0;36m<cell line: 2>\u001b[1;34m()\u001b[0m\n\u001b[0;32m      1\u001b[0m \u001b[38;5;66;03m# len(dwarves) # 7\u001b[39;00m\n\u001b[1;32m----> 2\u001b[0m \u001b[43mdwarves\u001b[49m\u001b[43m[\u001b[49m\u001b[38;5;241;43m7\u001b[39;49m\u001b[43m]\u001b[49m\n",
      "\u001b[1;31mIndexError\u001b[0m: tuple index out of range"
     ]
    }
   ],
   "source": [
    "# len(dwarves) # 7\n",
    "dwarves[7]"
   ]
  },
  {
   "cell_type": "markdown",
   "metadata": {
    "id": "SRhYiXRJW74t"
   },
   "source": [
    "## Exercise Four\n",
    "\n",
    "In the next cell, write an expression that accesses `dwarves` and returns `\"ope\"`.  There is more than one answer.  See if you can find two."
   ]
  },
  {
   "cell_type": "code",
   "execution_count": 9,
   "metadata": {
    "id": "sb81tMbDW74u"
   },
   "outputs": [
    {
     "data": {
      "text/plain": [
       "('Sneezy', 'Doc', 'Sleepy', 'Happy', 'Dopey', 'Grumpy', 'Bashful')"
      ]
     },
     "execution_count": 9,
     "metadata": {},
     "output_type": "execute_result"
    }
   ],
   "source": [
    "dwarves"
   ]
  },
  {
   "cell_type": "code",
   "execution_count": 11,
   "metadata": {},
   "outputs": [
    {
     "data": {
      "text/plain": [
       "'ope'"
      ]
     },
     "execution_count": 11,
     "metadata": {},
     "output_type": "execute_result"
    }
   ],
   "source": [
    "dwarves[4][1:4] # 1"
   ]
  },
  {
   "cell_type": "code",
   "execution_count": 12,
   "metadata": {},
   "outputs": [
    {
     "data": {
      "text/plain": [
       "'ope'"
      ]
     },
     "execution_count": 12,
     "metadata": {},
     "output_type": "execute_result"
    }
   ],
   "source": [
    "dwarves[-3][-4:-1] # 2"
   ]
  },
  {
   "cell_type": "markdown",
   "metadata": {
    "id": "Yd_mC2AHW74w"
   },
   "source": [
    " ## Exercise Five\n",
    " \n",
    " In the next cell, write **a single Python expression** that accesses `secret_word` and returns\n",
    " \n",
    " ```\n",
    " ['sesame','bagel']\n",
    " ```\n",
    " \n",
    " You will need to use a string **method**, that is, a function called with the syntax `secret_word.function(...)`."
   ]
  },
  {
   "cell_type": "code",
   "execution_count": 14,
   "metadata": {
    "id": "tRmFvB_8W74x"
   },
   "outputs": [
    {
     "data": {
      "text/plain": [
       "'sesame bagel'"
      ]
     },
     "execution_count": 14,
     "metadata": {},
     "output_type": "execute_result"
    }
   ],
   "source": [
    "secret_word # just to make content visible"
   ]
  },
  {
   "cell_type": "code",
   "execution_count": 16,
   "metadata": {},
   "outputs": [
    {
     "data": {
      "text/plain": [
       "['sesame', 'bagel']"
      ]
     },
     "execution_count": 16,
     "metadata": {},
     "output_type": "execute_result"
    }
   ],
   "source": [
    "secret_word.split()"
   ]
  },
  {
   "cell_type": "markdown",
   "metadata": {
    "id": "0c5-_POaW74z"
   },
   "source": [
    " "
   ]
  },
  {
   "cell_type": "markdown",
   "metadata": {
    "id": "TyoTDs0_W740"
   },
   "source": [
    "## Exercise Six\n",
    "\n",
    "Explain what happens  when the following expression is evaluated.  Edit it to be an expression that returns `\"h\"`."
   ]
  },
  {
   "cell_type": "code",
   "execution_count": null,
   "metadata": {
    "id": "jwYjbhIcW740",
    "outputId": "97b85bc1-dede-4790-f7eb-2c2f6868213e",
    "scrolled": true
   },
   "outputs": [
    {
     "ename": "TypeError",
     "evalue": "string indices must be integers",
     "output_type": "error",
     "traceback": [
      "\u001b[0;31m---------------------------------------------------------------------------\u001b[0m",
      "\u001b[0;31mTypeError\u001b[0m                                 Traceback (most recent call last)",
      "\u001b[0;32m<ipython-input-8-f360eac5cd2a>\u001b[0m in \u001b[0;36m<module>\u001b[0;34m()\u001b[0m\n\u001b[0;32m----> 1\u001b[0;31m \u001b[0mawards\u001b[0m\u001b[0;34m[\u001b[0m\u001b[0;36m2\u001b[0m\u001b[0;34m]\u001b[0m\u001b[0;34m[\u001b[0m\u001b[0;34m'n'\u001b[0m\u001b[0;34m]\u001b[0m\u001b[0;34m\u001b[0m\u001b[0m\n\u001b[0m",
      "\u001b[0;31mTypeError\u001b[0m: string indices must be integers"
     ]
    }
   ],
   "source": [
    "dwarves[6]['h']"
   ]
  },
  {
   "cell_type": "markdown",
   "metadata": {
    "id": "ZAssjXPBoddT"
   },
   "source": [
    "[dwarves is tuple = sequence. To retrieve its element, positional indexing is necessary].  Double click on this cell to begin editing.  Type [Shift-Return]  when you're finished writing."
   ]
  },
  {
   "cell_type": "code",
   "execution_count": 17,
   "metadata": {
    "id": "Fy5tZsQwoddT"
   },
   "outputs": [
    {
     "data": {
      "text/plain": [
       "'h'"
      ]
     },
     "execution_count": 17,
     "metadata": {},
     "output_type": "execute_result"
    }
   ],
   "source": [
    "# Edited version of the Python expression above\n",
    "dwarves[6][-4]"
   ]
  },
  {
   "cell_type": "markdown",
   "metadata": {
    "id": "VabiRPzPW743"
   },
   "source": [
    " "
   ]
  },
  {
   "cell_type": "markdown",
   "metadata": {
    "id": "GyNmzb8iW743"
   },
   "source": [
    "## Exercise Seven\n",
    "\n",
    "In the next cell, write an expression that accesses `dwarves[2]` and returns `True`. \n",
    "\n",
    "You will need to perform a Boolean test."
   ]
  },
  {
   "cell_type": "code",
   "execution_count": 18,
   "metadata": {
    "id": "S5ObRPoaW744"
   },
   "outputs": [
    {
     "data": {
      "text/plain": [
       "('Sneezy', 'Doc', 'Sleepy', 'Happy', 'Dopey', 'Grumpy', 'Bashful')"
      ]
     },
     "execution_count": 18,
     "metadata": {},
     "output_type": "execute_result"
    }
   ],
   "source": [
    "dwarves # to make content visible one more time"
   ]
  },
  {
   "cell_type": "markdown",
   "metadata": {
    "id": "BHPox3R5W747"
   },
   "source": [
    " "
   ]
  },
  {
   "cell_type": "code",
   "execution_count": 19,
   "metadata": {},
   "outputs": [
    {
     "data": {
      "text/plain": [
       "True"
      ]
     },
     "execution_count": 19,
     "metadata": {},
     "output_type": "execute_result"
    }
   ],
   "source": [
    "'Sleepy' in dwarves"
   ]
  },
  {
   "cell_type": "markdown",
   "metadata": {
    "id": "MTSVrHjiW747"
   },
   "source": [
    " ## Exercise Eight A\n",
    "\n",
    "In the next cell, write an expression that accesses `capitals` and raises\n",
    "a `TypeError`."
   ]
  },
  {
   "cell_type": "code",
   "execution_count": 20,
   "metadata": {
    "id": "dQlgKSz1W748"
   },
   "outputs": [
    {
     "data": {
      "text/plain": [
       "[('France', 'Paris'),\n",
       " ('Italy', 'Rome'),\n",
       " ('Germany', 'Berlin'),\n",
       " ('England', 'London'),\n",
       " ('Sweden', 'Stockholm'),\n",
       " ('Norway', 'Oslo'),\n",
       " ('Poland', 'Warsaw')]"
      ]
     },
     "execution_count": 20,
     "metadata": {},
     "output_type": "execute_result"
    }
   ],
   "source": [
    "capitals # contect"
   ]
  },
  {
   "cell_type": "code",
   "execution_count": 21,
   "metadata": {},
   "outputs": [
    {
     "ename": "TypeError",
     "evalue": "'tuple' object does not support item assignment",
     "output_type": "error",
     "traceback": [
      "\u001b[1;31m---------------------------------------------------------------------------\u001b[0m",
      "\u001b[1;31mTypeError\u001b[0m                                 Traceback (most recent call last)",
      "Input \u001b[1;32mIn [21]\u001b[0m, in \u001b[0;36m<cell line: 1>\u001b[1;34m()\u001b[0m\n\u001b[1;32m----> 1\u001b[0m capitals[\u001b[38;5;241m1\u001b[39m][\u001b[38;5;241m1\u001b[39m] \u001b[38;5;241m=\u001b[39m \u001b[38;5;124m'\u001b[39m\u001b[38;5;124mTbilisi\u001b[39m\u001b[38;5;124m'\u001b[39m\n",
      "\u001b[1;31mTypeError\u001b[0m: 'tuple' object does not support item assignment"
     ]
    }
   ],
   "source": [
    "capitals[1][1] = 'Tbilisi'"
   ]
  },
  {
   "cell_type": "markdown",
   "metadata": {
    "id": "7kXTQ51RoddU"
   },
   "source": [
    "## Exercise Eight B\n",
    "\n",
    "In the next cell, write an expression that accesses `capitals` and raises\n",
    "an `IndexError`.  If this can't be done, explain why."
   ]
  },
  {
   "cell_type": "code",
   "execution_count": 22,
   "metadata": {
    "id": "9VLjesTPoddU"
   },
   "outputs": [
    {
     "ename": "IndexError",
     "evalue": "list index out of range",
     "output_type": "error",
     "traceback": [
      "\u001b[1;31m---------------------------------------------------------------------------\u001b[0m",
      "\u001b[1;31mIndexError\u001b[0m                                Traceback (most recent call last)",
      "Input \u001b[1;32mIn [22]\u001b[0m, in \u001b[0;36m<cell line: 1>\u001b[1;34m()\u001b[0m\n\u001b[1;32m----> 1\u001b[0m \u001b[43mcapitals\u001b[49m\u001b[43m[\u001b[49m\u001b[38;5;241;43m8\u001b[39;49m\u001b[43m]\u001b[49m\n",
      "\u001b[1;31mIndexError\u001b[0m: list index out of range"
     ]
    }
   ],
   "source": [
    "capitals[8]"
   ]
  },
  {
   "cell_type": "markdown",
   "metadata": {
    "id": "mR-KwOvYoddU"
   },
   "source": [
    "## Exercise Eight C\n",
    "\n",
    "In the next cell, write an expression that accesses `capitals` and raises\n",
    "a `KeyError`.  If this can't be done, explain why."
   ]
  },
  {
   "cell_type": "code",
   "execution_count": 23,
   "metadata": {
    "id": "sn4m9WKhoddU"
   },
   "outputs": [],
   "source": [
    "# capitals is not a dictionary, so I don't think this type of error is possible in this case; but we can convert it into a dictionary so that it can have keys\n",
    "capitals_dict = dict(capitals)"
   ]
  },
  {
   "cell_type": "code",
   "execution_count": 24,
   "metadata": {},
   "outputs": [
    {
     "data": {
      "text/plain": [
       "{'France': 'Paris',\n",
       " 'Italy': 'Rome',\n",
       " 'Germany': 'Berlin',\n",
       " 'England': 'London',\n",
       " 'Sweden': 'Stockholm',\n",
       " 'Norway': 'Oslo',\n",
       " 'Poland': 'Warsaw'}"
      ]
     },
     "execution_count": 24,
     "metadata": {},
     "output_type": "execute_result"
    }
   ],
   "source": [
    "capitals_dict"
   ]
  },
  {
   "cell_type": "code",
   "execution_count": 25,
   "metadata": {},
   "outputs": [
    {
     "ename": "KeyError",
     "evalue": "'Georgia'",
     "output_type": "error",
     "traceback": [
      "\u001b[1;31m---------------------------------------------------------------------------\u001b[0m",
      "\u001b[1;31mKeyError\u001b[0m                                  Traceback (most recent call last)",
      "Input \u001b[1;32mIn [25]\u001b[0m, in \u001b[0;36m<cell line: 1>\u001b[1;34m()\u001b[0m\n\u001b[1;32m----> 1\u001b[0m \u001b[43mcapitals_dict\u001b[49m\u001b[43m[\u001b[49m\u001b[38;5;124;43m'\u001b[39;49m\u001b[38;5;124;43mGeorgia\u001b[39;49m\u001b[38;5;124;43m'\u001b[39;49m\u001b[43m]\u001b[49m\n",
      "\u001b[1;31mKeyError\u001b[0m: 'Georgia'"
     ]
    }
   ],
   "source": [
    "capitals_dict['Georgia']"
   ]
  },
  {
   "cell_type": "code",
   "execution_count": 26,
   "metadata": {},
   "outputs": [],
   "source": [
    "# And we got KeyError"
   ]
  },
  {
   "cell_type": "markdown",
   "metadata": {
    "id": "o0uOi3F1W74-"
   },
   "source": [
    " "
   ]
  },
  {
   "cell_type": "markdown",
   "metadata": {
    "id": "BAs0bfXxW75D"
   },
   "source": [
    "## Exercise Nine \n",
    "\n",
    "In the next cell, write an expression that accesses `city_distances` and returns `419`. "
   ]
  },
  {
   "cell_type": "code",
   "execution_count": 27,
   "metadata": {
    "id": "hVFy1awGW75D"
   },
   "outputs": [
    {
     "data": {
      "text/plain": [
       "{'New York': {'Chicago': 790,\n",
       "  'Boston': 215,\n",
       "  'St. Louis': 953,\n",
       "  'Baltimore': 188},\n",
       " 'Chicago': {'Denver': 1002, 'Omaha': 467, 'Salt Lake City': 1397},\n",
       " 'Denver': {'Phoenix': 865, 'Salt Lake City': 528},\n",
       " 'Phoenix': {'Albuquerque': 419, 'Reno': 739, 'San Diego': 355},\n",
       " 'Dallas': {'Houston': 241}}"
      ]
     },
     "execution_count": 27,
     "metadata": {},
     "output_type": "execute_result"
    }
   ],
   "source": [
    "city_distances # let's see content and type"
   ]
  },
  {
   "cell_type": "code",
   "execution_count": 29,
   "metadata": {},
   "outputs": [
    {
     "data": {
      "text/plain": [
       "419"
      ]
     },
     "execution_count": 29,
     "metadata": {},
     "output_type": "execute_result"
    }
   ],
   "source": [
    "city_distances['Phoenix']['Albuquerque']"
   ]
  },
  {
   "cell_type": "markdown",
   "metadata": {
    "id": "CIlyrl7EW75H"
   },
   "source": [
    "## Exercise Ten A\n",
    "\n",
    "In the next cell, write an expression that accesses `capitals` and returns `\"Stockholm\"`. "
   ]
  },
  {
   "cell_type": "code",
   "execution_count": 30,
   "metadata": {
    "id": "43Yp1PX6oddV"
   },
   "outputs": [
    {
     "data": {
      "text/plain": [
       "[('France', 'Paris'),\n",
       " ('Italy', 'Rome'),\n",
       " ('Germany', 'Berlin'),\n",
       " ('England', 'London'),\n",
       " ('Sweden', 'Stockholm'),\n",
       " ('Norway', 'Oslo'),\n",
       " ('Poland', 'Warsaw')]"
      ]
     },
     "execution_count": 30,
     "metadata": {},
     "output_type": "execute_result"
    }
   ],
   "source": [
    "capitals"
   ]
  },
  {
   "cell_type": "code",
   "execution_count": 31,
   "metadata": {},
   "outputs": [
    {
     "data": {
      "text/plain": [
       "'Stockholm'"
      ]
     },
     "execution_count": 31,
     "metadata": {},
     "output_type": "execute_result"
    }
   ],
   "source": [
    "capitals[4][1]"
   ]
  },
  {
   "cell_type": "markdown",
   "metadata": {
    "id": "mDIpkpe_oddV"
   },
   "source": [
    "## Exercise Ten B\n",
    "\n",
    "In the next cell, write an expression that accesses `country2capital` and returns `\"Stockholm\"`. "
   ]
  },
  {
   "cell_type": "code",
   "execution_count": 32,
   "metadata": {
    "id": "Isdo5KvToddV"
   },
   "outputs": [
    {
     "data": {
      "text/plain": [
       "{'France': 'Paris',\n",
       " 'Italy': 'Rome',\n",
       " 'Germany': 'Berlin',\n",
       " 'England': 'London',\n",
       " 'Sweden': 'Stockholm',\n",
       " 'Norway': 'Oslo',\n",
       " 'Poland': 'Warsaw'}"
      ]
     },
     "execution_count": 32,
     "metadata": {},
     "output_type": "execute_result"
    }
   ],
   "source": [
    "country2capital"
   ]
  },
  {
   "cell_type": "code",
   "execution_count": 33,
   "metadata": {},
   "outputs": [
    {
     "data": {
      "text/plain": [
       "'Stockholm'"
      ]
     },
     "execution_count": 33,
     "metadata": {},
     "output_type": "execute_result"
    }
   ],
   "source": [
    "country2capital['Sweden']"
   ]
  },
  {
   "cell_type": "markdown",
   "metadata": {
    "id": "5rxYWbcJW75L"
   },
   "source": [
    " "
   ]
  },
  {
   "cell_type": "markdown",
   "metadata": {
    "id": "s4HBqIahW75M"
   },
   "source": [
    "## Exercise Eleven\n",
    "\n",
    "In the next cell, write an expression that accesses `historical_records` and returns `Jetsons`. \n",
    "(There's more than one way to do this. The easy way uses the `.split(...)` method on strings.)"
   ]
  },
  {
   "cell_type": "code",
   "execution_count": 34,
   "metadata": {
    "id": "gVKYQYLVW75M"
   },
   "outputs": [
    {
     "data": {
      "text/plain": [
       "[{'name': 'Fred Flinstone',\n",
       "  'spouse': 'Wilma',\n",
       "  'favorite_tv_shows': ['The Honeymooners', 'The Jetsons'],\n",
       "  'town of residence': 'Bedrock'},\n",
       " {'name': 'Barney Rubble',\n",
       "  'spouse': 'Elizabeth',\n",
       "  'favorite_tv_shows': ['The Crown', 'Bridgerton'],\n",
       "  'town of residence': 'Bedrock'}]"
      ]
     },
     "execution_count": 34,
     "metadata": {},
     "output_type": "execute_result"
    }
   ],
   "source": [
    "historical_records"
   ]
  },
  {
   "cell_type": "code",
   "execution_count": 40,
   "metadata": {},
   "outputs": [
    {
     "data": {
      "text/plain": [
       "{'name': 'Fred Flinstone',\n",
       " 'spouse': 'Wilma',\n",
       " 'favorite_tv_shows': ['The Honeymooners', 'The Jetsons'],\n",
       " 'town of residence': 'Bedrock'}"
      ]
     },
     "execution_count": 40,
     "metadata": {},
     "output_type": "execute_result"
    }
   ],
   "source": [
    "historical_records[0]"
   ]
  },
  {
   "cell_type": "code",
   "execution_count": 41,
   "metadata": {},
   "outputs": [
    {
     "data": {
      "text/plain": [
       "['The Honeymooners', 'The Jetsons']"
      ]
     },
     "execution_count": 41,
     "metadata": {},
     "output_type": "execute_result"
    }
   ],
   "source": [
    "historical_records[0]['favorite_tv_shows']"
   ]
  },
  {
   "cell_type": "code",
   "execution_count": 42,
   "metadata": {},
   "outputs": [
    {
     "data": {
      "text/plain": [
       "'The Jetsons'"
      ]
     },
     "execution_count": 42,
     "metadata": {},
     "output_type": "execute_result"
    }
   ],
   "source": [
    "historical_records[0]['favorite_tv_shows'][1]"
   ]
  },
  {
   "cell_type": "markdown",
   "metadata": {
    "id": "-7xecYYuW75P"
   },
   "source": [
    " "
   ]
  },
  {
   "cell_type": "markdown",
   "metadata": {
    "id": "5WCkETk-W75P"
   },
   "source": [
    "## Exercise Twelve\n",
    "\n",
    "In the next cell, write an expression that accesses `historical_records` and returns `\"roc\"`. "
   ]
  },
  {
   "cell_type": "code",
   "execution_count": 43,
   "metadata": {
    "id": "gL-f2FucW75P"
   },
   "outputs": [
    {
     "data": {
      "text/plain": [
       "[{'name': 'Fred Flinstone',\n",
       "  'spouse': 'Wilma',\n",
       "  'favorite_tv_shows': ['The Honeymooners', 'The Jetsons'],\n",
       "  'town of residence': 'Bedrock'},\n",
       " {'name': 'Barney Rubble',\n",
       "  'spouse': 'Elizabeth',\n",
       "  'favorite_tv_shows': ['The Crown', 'Bridgerton'],\n",
       "  'town of residence': 'Bedrock'}]"
      ]
     },
     "execution_count": 43,
     "metadata": {},
     "output_type": "execute_result"
    }
   ],
   "source": [
    "historical_records"
   ]
  },
  {
   "cell_type": "code",
   "execution_count": 44,
   "metadata": {},
   "outputs": [
    {
     "data": {
      "text/plain": [
       "'roc'"
      ]
     },
     "execution_count": 44,
     "metadata": {},
     "output_type": "execute_result"
    }
   ],
   "source": [
    "historical_records[0]['town of residence'][-4:-1]"
   ]
  },
  {
   "cell_type": "markdown",
   "metadata": {
    "id": "JbtVOFMCW75S"
   },
   "source": [
    " "
   ]
  },
  {
   "cell_type": "markdown",
   "metadata": {
    "id": "NiSCfU1BW75T"
   },
   "source": [
    "## Exercise Thirteen\n",
    "\n",
    "Can you write an expression that sets the first element of `dwarves` to be `\"Thorin\"`.  If not, why not?\n",
    "\n",
    "You may use the next cell to illustrate your answer."
   ]
  },
  {
   "cell_type": "code",
   "execution_count": 45,
   "metadata": {
    "id": "85QzGS1roddV"
   },
   "outputs": [
    {
     "data": {
      "text/plain": [
       "('Sneezy', 'Doc', 'Sleepy', 'Happy', 'Dopey', 'Grumpy', 'Bashful')"
      ]
     },
     "execution_count": 45,
     "metadata": {},
     "output_type": "execute_result"
    }
   ],
   "source": [
    "dwarves"
   ]
  },
  {
   "cell_type": "code",
   "execution_count": 46,
   "metadata": {},
   "outputs": [
    {
     "ename": "TypeError",
     "evalue": "'tuple' object does not support item assignment",
     "output_type": "error",
     "traceback": [
      "\u001b[1;31m---------------------------------------------------------------------------\u001b[0m",
      "\u001b[1;31mTypeError\u001b[0m                                 Traceback (most recent call last)",
      "Input \u001b[1;32mIn [46]\u001b[0m, in \u001b[0;36m<cell line: 1>\u001b[1;34m()\u001b[0m\n\u001b[1;32m----> 1\u001b[0m dwarves[\u001b[38;5;241m0\u001b[39m] \u001b[38;5;241m=\u001b[39m \u001b[38;5;124m'\u001b[39m\u001b[38;5;124mThorin\u001b[39m\u001b[38;5;124m'\u001b[39m\n",
      "\u001b[1;31mTypeError\u001b[0m: 'tuple' object does not support item assignment"
     ]
    }
   ],
   "source": [
    "dwarves[0] = 'Thorin'"
   ]
  },
  {
   "cell_type": "code",
   "execution_count": 47,
   "metadata": {},
   "outputs": [],
   "source": [
    "# There is a TypeError because tuples are immutable"
   ]
  },
  {
   "cell_type": "markdown",
   "metadata": {
    "id": "H7lDWVTTW75X"
   },
   "source": [
    " "
   ]
  },
  {
   "cell_type": "markdown",
   "metadata": {
    "id": "rehiuvcXW75Y"
   },
   "source": [
    "## Exercise Fourteen\n",
    "\n",
    "In the next cell, write an expression that accesses `capitals[-2]` and returns `True`. "
   ]
  },
  {
   "cell_type": "code",
   "execution_count": 48,
   "metadata": {
    "id": "RbqbEUJPoddW"
   },
   "outputs": [
    {
     "data": {
      "text/plain": [
       "[('France', 'Paris'),\n",
       " ('Italy', 'Rome'),\n",
       " ('Germany', 'Berlin'),\n",
       " ('England', 'London'),\n",
       " ('Sweden', 'Stockholm'),\n",
       " ('Norway', 'Oslo'),\n",
       " ('Poland', 'Warsaw')]"
      ]
     },
     "execution_count": 48,
     "metadata": {},
     "output_type": "execute_result"
    }
   ],
   "source": [
    "capitals"
   ]
  },
  {
   "cell_type": "code",
   "execution_count": 52,
   "metadata": {},
   "outputs": [
    {
     "data": {
      "text/plain": [
       "True"
      ]
     },
     "execution_count": 52,
     "metadata": {},
     "output_type": "execute_result"
    }
   ],
   "source": [
    "('Norway', 'Oslo') in capitals"
   ]
  },
  {
   "cell_type": "markdown",
   "metadata": {
    "id": "Un339aJjW75c"
   },
   "source": [
    " "
   ]
  },
  {
   "cell_type": "markdown",
   "metadata": {
    "id": "olFPDUg7W75c"
   },
   "source": [
    "## Exercise Fifteen\n",
    "\n",
    "In the next cell, write an expression that accesses `city_distances` and returns \n",
    "a dictionary with three keys. Would your answer be any different if you were asked to\n",
    "return a dictionary of length 3?  If you say yes, produce a different answer; if\n",
    "you say no, demonstrate that your answer to the first question is also an answer to\n",
    "the second.  You will need to create a new cell below the code cell below this one\n",
    "for your second answer. "
   ]
  },
  {
   "cell_type": "code",
   "execution_count": 53,
   "metadata": {
    "id": "jJNlecohW75Z"
   },
   "outputs": [
    {
     "data": {
      "text/plain": [
       "{'New York': {'Chicago': 790,\n",
       "  'Boston': 215,\n",
       "  'St. Louis': 953,\n",
       "  'Baltimore': 188},\n",
       " 'Chicago': {'Denver': 1002, 'Omaha': 467, 'Salt Lake City': 1397},\n",
       " 'Denver': {'Phoenix': 865, 'Salt Lake City': 528},\n",
       " 'Phoenix': {'Albuquerque': 419, 'Reno': 739, 'San Diego': 355},\n",
       " 'Dallas': {'Houston': 241}}"
      ]
     },
     "execution_count": 53,
     "metadata": {},
     "output_type": "execute_result"
    }
   ],
   "source": [
    "city_distances"
   ]
  },
  {
   "cell_type": "code",
   "execution_count": 95,
   "metadata": {},
   "outputs": [
    {
     "name": "stdout",
     "output_type": "stream",
     "text": [
      "Chicago {'Denver': 1002, 'Omaha': 467, 'Salt Lake City': 1397}\n",
      "Phoenix {'Albuquerque': 419, 'Reno': 739, 'San Diego': 355}\n"
     ]
    }
   ],
   "source": [
    "for key, value in city_distances.items():\n",
    "    if len(value) == 3:\n",
    "        print(key, value)"
   ]
  },
  {
   "cell_type": "markdown",
   "metadata": {
    "id": "1mBQNrd5oddW"
   },
   "source": [
    "## Exercise Sixteen\n",
    "\n",
    "In the next cell update `historical_records` so that Barney Rubble's spouse \n",
    "changes from `\"Elizabeth\"`  to \"`Betty\"`."
   ]
  },
  {
   "cell_type": "code",
   "execution_count": 96,
   "metadata": {
    "id": "qzOO2eJ6oddW"
   },
   "outputs": [
    {
     "data": {
      "text/plain": [
       "[{'name': 'Fred Flinstone',\n",
       "  'spouse': 'Wilma',\n",
       "  'favorite_tv_shows': ['The Honeymooners', 'The Jetsons'],\n",
       "  'town of residence': 'Bedrock'},\n",
       " {'name': 'Barney Rubble',\n",
       "  'spouse': 'Elizabeth',\n",
       "  'favorite_tv_shows': ['The Crown', 'Bridgerton'],\n",
       "  'town of residence': 'Bedrock'}]"
      ]
     },
     "execution_count": 96,
     "metadata": {},
     "output_type": "execute_result"
    }
   ],
   "source": [
    "historical_records"
   ]
  },
  {
   "cell_type": "code",
   "execution_count": 105,
   "metadata": {},
   "outputs": [
    {
     "data": {
      "text/plain": [
       "[{'name': 'Fred Flinstone',\n",
       "  'spouse': 'Wilma',\n",
       "  'favorite_tv_shows': ['The Honeymooners', 'The Jetsons'],\n",
       "  'town of residence': 'Bedrock'},\n",
       " {'name': 'Barney Rubble',\n",
       "  'spouse': 'Betty',\n",
       "  'favorite_tv_shows': ['The Crown', 'Bridgerton'],\n",
       "  'town of residence': 'Bedrock'}]"
      ]
     },
     "execution_count": 105,
     "metadata": {},
     "output_type": "execute_result"
    }
   ],
   "source": [
    "historical_records[1].update(spouse = \"Betty\")\n",
    "historical_records"
   ]
  },
  {
   "cell_type": "markdown",
   "metadata": {
    "id": "5jmOUE1uoddW"
   },
   "source": [
    "## Exercise Seventeen\n",
    "\n",
    "The next cell raises a `TypeError`.  Explain why. Be sure to say what string is causing the rror."
   ]
  },
  {
   "cell_type": "code",
   "execution_count": null,
   "metadata": {
    "id": "r8IatLh1oddW",
    "outputId": "a5447a2e-056f-45d2-ea8a-b1fd905e7785"
   },
   "outputs": [
    {
     "ename": "TypeError",
     "evalue": "'str' object does not support item assignment",
     "output_type": "error",
     "traceback": [
      "\u001b[0;31m---------------------------------------------------------------------------\u001b[0m",
      "\u001b[0;31mTypeError\u001b[0m                                 Traceback (most recent call last)",
      "Cell \u001b[0;32mIn[8], line 1\u001b[0m\n\u001b[0;32m----> 1\u001b[0m historical_records[\u001b[38;5;241m0\u001b[39m][\u001b[38;5;124m'\u001b[39m\u001b[38;5;124mspouse\u001b[39m\u001b[38;5;124m'\u001b[39m][\u001b[38;5;241m0\u001b[39m]  \u001b[38;5;241m=\u001b[39m \u001b[38;5;124m'\u001b[39m\u001b[38;5;124mV\u001b[39m\u001b[38;5;124m'\u001b[39m\n",
      "\u001b[0;31mTypeError\u001b[0m: 'str' object does not support item assignment"
     ]
    }
   ],
   "source": [
    "historical_records[0]['spouse'][0]  = 'V'"
   ]
  },
  {
   "cell_type": "markdown",
   "metadata": {},
   "source": [
    "The problem is with the last element above: historical_records[0]['spouse'][0], not with 'spouse'.\n",
    "Strings are immutable, they do not support item assignment."
   ]
  },
  {
   "cell_type": "markdown",
   "metadata": {
    "id": "UDeumIS6oddW"
   },
   "source": [
    "## Exercise Eighteen\n",
    "\n",
    "In this problem, your task is to write an assignment statement that changes the distance from\n",
    "Chicago to New York in `city_distances` from 790 to 789."
   ]
  },
  {
   "cell_type": "markdown",
   "metadata": {
    "id": "peFu-ytYoddW"
   },
   "source": [
    "Put your answer, which should be an assignment, in the next cell.\n",
    "\n",
    "Be sure to check your answer as well by accessing the updated data value."
   ]
  },
  {
   "cell_type": "code",
   "execution_count": 116,
   "metadata": {
    "id": "-SmuZa2HW75g"
   },
   "outputs": [
    {
     "data": {
      "text/plain": [
       "{'New York': {'Chicago': 790,\n",
       "  'Boston': 215,\n",
       "  'St. Louis': 953,\n",
       "  'Baltimore': 188},\n",
       " 'Chicago': {'Denver': 1002, 'Omaha': 467, 'Salt Lake City': 1397},\n",
       " 'Denver': {'Phoenix': 865, 'Salt Lake City': 528},\n",
       " 'Phoenix': {'Albuquerque': 419, 'Reno': 739, 'San Diego': 355},\n",
       " 'Dallas': {'Houston': 241}}"
      ]
     },
     "execution_count": 116,
     "metadata": {},
     "output_type": "execute_result"
    }
   ],
   "source": [
    " city_distances"
   ]
  },
  {
   "cell_type": "code",
   "execution_count": 124,
   "metadata": {},
   "outputs": [
    {
     "data": {
      "text/plain": [
       "{'New York': {'Chicago': 789,\n",
       "  'Boston': 215,\n",
       "  'St. Louis': 953,\n",
       "  'Baltimore': 188},\n",
       " 'Chicago': {'Denver': 1002, 'Omaha': 467, 'Salt Lake City': 1397},\n",
       " 'Denver': {'Phoenix': 865, 'Salt Lake City': 528},\n",
       " 'Phoenix': {'Albuquerque': 419, 'Reno': 739, 'San Diego': 355},\n",
       " 'Dallas': {'Houston': 241}}"
      ]
     },
     "execution_count": 124,
     "metadata": {},
     "output_type": "execute_result"
    }
   ],
   "source": [
    "city_distances['New York']['Chicago'] = 789\n",
    "city_distances"
   ]
  },
  {
   "cell_type": "markdown",
   "metadata": {
    "id": "qwn17TUFW75h"
   },
   "source": [
    "##       Part Two"
   ]
  },
  {
   "cell_type": "markdown",
   "metadata": {
    "id": "Ma_hoftyW75h"
   },
   "source": [
    "Write down expressions to retrieve the given values from the given variables."
   ]
  },
  {
   "cell_type": "markdown",
   "metadata": {
    "id": "XvH9JnpVW75i"
   },
   "source": [
    "1) `'pp'` from `dwarves`"
   ]
  },
  {
   "cell_type": "code",
   "execution_count": 126,
   "metadata": {
    "id": "grPenshDW75i"
   },
   "outputs": [
    {
     "data": {
      "text/plain": [
       "'pp'"
      ]
     },
     "execution_count": 126,
     "metadata": {},
     "output_type": "execute_result"
    }
   ],
   "source": [
    "dwarves\n",
    "dwarves[3][-3:-1]"
   ]
  },
  {
   "cell_type": "markdown",
   "metadata": {
    "id": "hCEFKZu0W75k"
   },
   "source": [
    "2) `'rsa'` from `country2capital`"
   ]
  },
  {
   "cell_type": "code",
   "execution_count": 128,
   "metadata": {
    "id": "YfPfNTfrW75k"
   },
   "outputs": [
    {
     "data": {
      "text/plain": [
       "'rsa'"
      ]
     },
     "execution_count": 128,
     "metadata": {},
     "output_type": "execute_result"
    }
   ],
   "source": [
    "country2capital\n",
    "country2capital['Poland'][2:5]"
   ]
  },
  {
   "cell_type": "markdown",
   "metadata": {
    "id": "AziVAtqLW75n"
   },
   "source": [
    "3) `'rma'` from `capitals`"
   ]
  },
  {
   "cell_type": "code",
   "execution_count": 134,
   "metadata": {
    "id": "Kd0ImWxkW75o"
   },
   "outputs": [
    {
     "data": {
      "text/plain": [
       "'rma'"
      ]
     },
     "execution_count": 134,
     "metadata": {},
     "output_type": "execute_result"
    }
   ],
   "source": [
    "capitals[2][0][-5:-2]"
   ]
  },
  {
   "cell_type": "markdown",
   "metadata": {
    "id": "FAG5HtfyW75q"
   },
   "source": [
    "4) `'rma'` from `country2capital` (Hint:  You will need to use a method appropriate for the container\n",
    "this substring is in)"
   ]
  },
  {
   "cell_type": "code",
   "execution_count": 152,
   "metadata": {
    "id": "1RbAp7uVW75r"
   },
   "outputs": [
    {
     "data": {
      "text/plain": [
       "'rma'"
      ]
     },
     "execution_count": 152,
     "metadata": {},
     "output_type": "execute_result"
    }
   ],
   "source": [
    "element = list(country2capital)\n",
    "element[-5][2:5]"
   ]
  },
  {
   "cell_type": "markdown",
   "metadata": {
    "id": "7ZMgB6DRW75t"
   },
   "source": [
    "## Part Three"
   ]
  },
  {
   "cell_type": "code",
   "execution_count": 1,
   "metadata": {
    "id": "S0LjtauVW75t"
   },
   "outputs": [
    {
     "ename": "SyntaxError",
     "evalue": "invalid syntax (4135140788.py, line 1)",
     "output_type": "error",
     "traceback": [
      "\u001b[1;36m  Input \u001b[1;32mIn [1]\u001b[1;36m\u001b[0m\n\u001b[1;33m    The `city_distances` dictionary provides information about distances between U. S. city pairs.\u001b[0m\n\u001b[1;37m        ^\u001b[0m\n\u001b[1;31mSyntaxError\u001b[0m\u001b[1;31m:\u001b[0m invalid syntax\n"
     ]
    }
   ],
   "source": [
    "The `city_distances` dictionary provides information about distances between U. S. city pairs.  \n",
    "It does not cover all U.S. city pairs; in fact it only covers  13 city pairs.  \n",
    "Besides its incompleteness, there is a significant problem with how the information is represented.  \n",
    "In this problem you will reoorganize the data and represent it in a way that fixes this problem.\n",
    "\n",
    "Here is a hint as to what the problem is. \n",
    "Even though `city_distances` contains information about the distance between Chicago and New York, the following is an error:"
   ]
  },
  {
   "cell_type": "code",
   "execution_count": 6,
   "metadata": {},
   "outputs": [
    {
     "data": {
      "text/plain": [
       "{'New York': {'Chicago': 790,\n",
       "  'Boston': 215,\n",
       "  'St. Louis': 953,\n",
       "  'Baltimore': 188},\n",
       " 'Chicago': {'Denver': 1002, 'Omaha': 467, 'Salt Lake City': 1397},\n",
       " 'Denver': {'Phoenix': 865, 'Salt Lake City': 528},\n",
       " 'Phoenix': {'Albuquerque': 419, 'Reno': 739, 'San Diego': 355},\n",
       " 'Dallas': {'Houston': 241}}"
      ]
     },
     "execution_count": 6,
     "metadata": {},
     "output_type": "execute_result"
    }
   ],
   "source": [
    "city_distances"
   ]
  },
  {
   "cell_type": "code",
   "execution_count": 7,
   "metadata": {
    "id": "mWY7_F0soddX",
    "outputId": "4d96cad0-1a19-4f2a-df96-fb3811cf4a33"
   },
   "outputs": [
    {
     "ename": "KeyError",
     "evalue": "'New York'",
     "output_type": "error",
     "traceback": [
      "\u001b[1;31m---------------------------------------------------------------------------\u001b[0m",
      "\u001b[1;31mKeyError\u001b[0m                                  Traceback (most recent call last)",
      "Input \u001b[1;32mIn [7]\u001b[0m, in \u001b[0;36m<cell line: 1>\u001b[1;34m()\u001b[0m\n\u001b[1;32m----> 1\u001b[0m \u001b[43mcity_distances\u001b[49m\u001b[43m[\u001b[49m\u001b[38;5;124;43m'\u001b[39;49m\u001b[38;5;124;43mChicago\u001b[39;49m\u001b[38;5;124;43m'\u001b[39;49m\u001b[43m]\u001b[49m\u001b[43m[\u001b[49m\u001b[38;5;124;43m'\u001b[39;49m\u001b[38;5;124;43mNew York\u001b[39;49m\u001b[38;5;124;43m'\u001b[39;49m\u001b[43m]\u001b[49m\n",
      "\u001b[1;31mKeyError\u001b[0m: 'New York'"
     ]
    }
   ],
   "source": [
    "city_distances['Chicago']['New York']"
   ]
  },
  {
   "cell_type": "markdown",
   "metadata": {
    "id": "ZQFEvMdIoddY"
   },
   "source": [
    "Notice it's not that the data is being looked up in a way inconsistent with the dictionary's design.  The following is fine:"
   ]
  },
  {
   "cell_type": "code",
   "execution_count": 8,
   "metadata": {
    "id": "BRWKzfwgoddY",
    "outputId": "91b99418-bd27-4112-c3cb-4aaabfe63a12"
   },
   "outputs": [
    {
     "data": {
      "text/plain": [
       "419"
      ]
     },
     "execution_count": 8,
     "metadata": {},
     "output_type": "execute_result"
    }
   ],
   "source": [
    "city_distances['Phoenix']['Albuquerque']"
   ]
  },
  {
   "cell_type": "markdown",
   "metadata": {
    "id": "5eyQRl1ioddY"
   },
   "source": [
    "Imagine that the typical user can't look at the definition of the dictionary.  They know how to use it\n",
    "and they know the city pairs that it covers. Explain the problem and why this puts an undue burden on the user. Hint: How **do** you look up the distance between Chicago and New York? Come up with a different way of representing the same data that solves this problem. Note:  Your solution should not introduce redundancy into the representation.  Don't store the same piece of information twice.  Your solution  should give the user one fairly natural way of looking up any of the 13 distances available in the data.  And it should not require the user to know any arbitrary facts about how any indvidual city distance is stored. \n",
    "\n",
    "This problem is about designing a a good way to represent some information. You can illustrate your \n",
    "design idea without typing in all 13 city pairs.  How about just doing three, one of which should\n",
    "be Chicago and New York?"
   ]
  },
  {
   "cell_type": "markdown",
   "metadata": {},
   "source": [
    "\n",
    "My answer:\n",
    "\n",
    "The problem is that the dictionary has keys and values, and we need keys to access another dictionaries that contain necessary values. \n",
    "Therefore, we can access the information in a single way, not in both ways. We can access information on distance between Chicago and New York from New York, but not the other way around because information is accessed by keys.\n",
    "Currently, distance between Chicago and New York can be accessed in this way:"
   ]
  },
  {
   "cell_type": "code",
   "execution_count": 9,
   "metadata": {},
   "outputs": [
    {
     "data": {
      "text/plain": [
       "790"
      ]
     },
     "execution_count": 9,
     "metadata": {},
     "output_type": "execute_result"
    }
   ],
   "source": [
    "city_distances['New York']['Chicago']"
   ]
  },
  {
   "cell_type": "code",
   "execution_count": 25,
   "metadata": {},
   "outputs": [
    {
     "data": {
      "text/plain": [
       "{'New York': {'Chicago': 790,\n",
       "  'Boston': 215,\n",
       "  'St. Louis': 953,\n",
       "  'Baltimore': 188},\n",
       " 'Chicago': {'Denver': 1002, 'Omaha': 467, 'Salt Lake City': 1397},\n",
       " 'Denver': {'Phoenix': 865, 'Salt Lake City': 528},\n",
       " 'Phoenix': {'Albuquerque': 419, 'Reno': 739, 'San Diego': 355},\n",
       " 'Dallas': {'Houston': 241}}"
      ]
     },
     "execution_count": 25,
     "metadata": {},
     "output_type": "execute_result"
    }
   ],
   "source": [
    "city_distances"
   ]
  },
  {
   "cell_type": "code",
   "execution_count": 38,
   "metadata": {},
   "outputs": [],
   "source": [
    "# I found a similar example in the python types exercise notebook.\n",
    "# I know for this purpose it is not the best implementation but this is all I can think now\n",
    "# and hopefully it makes some sense.\n",
    "import networkx as nx\n",
    "\n",
    "myList = \\\n",
    "[\n",
    "'New_York  Chicago {\"distance\": 790}', \n",
    "'New_York  Boston {\"distance\": 215}',\n",
    "'New_York  St._Louis {\"distance\": 953}',\n",
    "'New_York  Baltimore {\"distance\": 188}',\n",
    "'Chicago  Denver {\"distance\": 1002}',\n",
    "'Chicago  Omaha {\"distance\": 467}',\n",
    "'Chicago  Salt_Lake_City {\"distance\": 1397}',\n",
    "'Denver  Phoenix {\"distance\": 865}',\n",
    "'Denver  Salt_Lake_City {\"distance\": 528}',\n",
    "'Phoenix  Albuquerque {\"distance\": 419}',\n",
    "'Phoenix  Reno {\"distance\": 739}',\n",
    "'Phoenix  San_Diego {\"distance\": 355}',\n",
    "'Dallas  Houston {\"distance\": 241}']\n",
    "\n",
    "city_distances = nx.parse_edgelist(myList)"
   ]
  },
  {
   "cell_type": "code",
   "execution_count": 39,
   "metadata": {
    "scrolled": true
   },
   "outputs": [
    {
     "data": {
      "text/plain": [
       "{'distance': 1002}"
      ]
     },
     "execution_count": 39,
     "metadata": {},
     "output_type": "execute_result"
    }
   ],
   "source": [
    "city_distances['Chicago']['Denver']"
   ]
  },
  {
   "cell_type": "code",
   "execution_count": 40,
   "metadata": {},
   "outputs": [
    {
     "data": {
      "text/plain": [
       "{'distance': 1002}"
      ]
     },
     "execution_count": 40,
     "metadata": {},
     "output_type": "execute_result"
    }
   ],
   "source": [
    "city_distances['Denver']['Chicago']"
   ]
  },
  {
   "cell_type": "code",
   "execution_count": 41,
   "metadata": {},
   "outputs": [
    {
     "data": {
      "text/plain": [
       "{'distance': 790}"
      ]
     },
     "execution_count": 41,
     "metadata": {},
     "output_type": "execute_result"
    }
   ],
   "source": [
    "city_distances['New_York']['Chicago']"
   ]
  },
  {
   "cell_type": "code",
   "execution_count": 42,
   "metadata": {},
   "outputs": [
    {
     "data": {
      "text/plain": [
       "{'distance': 790}"
      ]
     },
     "execution_count": 42,
     "metadata": {},
     "output_type": "execute_result"
    }
   ],
   "source": [
    "city_distances['Chicago']['New_York']"
   ]
  },
  {
   "cell_type": "code",
   "execution_count": null,
   "metadata": {},
   "outputs": [],
   "source": []
  },
  {
   "cell_type": "markdown",
   "metadata": {
    "id": "VJQo1KOhW75w"
   },
   "source": [
    "  "
   ]
  }
 ],
 "metadata": {
  "colab": {
   "name": "python_types_assignment_2020.ipynb",
   "provenance": []
  },
  "kernelspec": {
   "display_name": "Python 3 (ipykernel)",
   "language": "python",
   "name": "python3"
  },
  "language_info": {
   "codemirror_mode": {
    "name": "ipython",
    "version": 3
   },
   "file_extension": ".py",
   "mimetype": "text/x-python",
   "name": "python",
   "nbconvert_exporter": "python",
   "pygments_lexer": "ipython3",
   "version": "3.9.12"
  },
  "toc": {
   "base_numbering": 1,
   "nav_menu": {
    "height": "67px",
    "width": "252px"
   },
   "number_sections": true,
   "sideBar": true,
   "skip_h1_title": false,
   "title_cell": "Table of Contents",
   "title_sidebar": "Contents",
   "toc_cell": false,
   "toc_position": {},
   "toc_section_display": "block",
   "toc_window_display": false
  }
 },
 "nbformat": 4,
 "nbformat_minor": 1
}
