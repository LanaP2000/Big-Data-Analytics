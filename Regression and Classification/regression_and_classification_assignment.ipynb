{
 "cells": [
  {
   "cell_type": "markdown",
   "metadata": {
    "id": "HaJ30cknvcYO"
   },
   "source": [
    "# Regression and Classification Assignment\n",
    "\n",
    "This notebook uses the data discussed in regression_and_classification notebook.   You may want to review that if you\n",
    "have trouble with the assignment."
   ]
  },
  {
   "cell_type": "markdown",
   "metadata": {
    "id": "Wjp7D5ytvcYS"
   },
   "source": [
    "## 1. The data"
   ]
  },
  {
   "cell_type": "markdown",
   "metadata": {
    "id": "Xu4D5NyjvcYT"
   },
   "source": [
    "First we do some imports and load the data from the `sklearn` module."
   ]
  },
  {
   "cell_type": "code",
   "execution_count": 1,
   "metadata": {
    "id": "TinxgPKbvcYU"
   },
   "outputs": [],
   "source": [
    "from sklearn.datasets import load_iris\n",
    "from sklearn.metrics import accuracy_score\n",
    "from sklearn import linear_model\n",
    "import numpy as np\n",
    "\n",
    "\n",
    "data = load_iris()\n",
    "features = data['data']\n",
    "feature_names = data['feature_names']\n",
    "target = data['target']"
   ]
  },
  {
   "cell_type": "markdown",
   "metadata": {
    "id": "p99qfRi2vcYV"
   },
   "source": [
    "**Q1**\n",
    "\n",
    "Don't take my word for it that subsets of the 4 Iris features always produce a worse classifier.\n",
    "Try it out.\n",
    "\n",
    "Change the selector array in the next cell and execute the code\n",
    "in the cell to try out your own favorite subsets\n",
    "of features.  No subset of 2 or even 3 features performs as well as using all 4.\n",
    "\n",
    "For example, using this selector \n",
    "```\n",
    "selector = np.array([True,True,False,True])\n",
    "```\n",
    "\n",
    "leaves out just  the third feature.  Here's your challenge: Find the best 2-feature\n",
    "system (it performs almost as well as any 3-feature system), and the best\n",
    "3-feature system.  Hint for the 2-feature problem, if you want to get there more\n",
    "quickly.  Look at our plots of two-feature systems in the \"Plotting Attributes\" section of the regression_and_classification.ipynb notebook (Section 2).  Which one **looks**\n",
    "like it gives the best separation?"
   ]
  },
  {
   "cell_type": "code",
   "execution_count": 59,
   "metadata": {
    "id": "EFymkGnjvcYW",
    "outputId": "31951e3d-1f3a-40a2-886d-1172a7fe72b3"
   },
   "outputs": [
    {
     "data": {
      "text/plain": [
       "0.9666666666666667"
      ]
     },
     "execution_count": 59,
     "metadata": {},
     "output_type": "execute_result"
    }
   ],
   "source": [
    "#Use selected features\n",
    "selector = np.array([True,True,False,True])\n",
    "X = features[:,selector]\n",
    "Y = target\n",
    "logreg = linear_model.LogisticRegression(C=1e5, solver='lbfgs',multi_class='auto')\n",
    "logreg.fit(X, Y)\n",
    "predicted = logreg.predict(X)\n",
    "accuracy_score(Y,predicted)"
   ]
  },
  {
   "cell_type": "code",
   "execution_count": 62,
   "metadata": {
    "scrolled": true
   },
   "outputs": [
    {
     "data": {
      "text/plain": [
       "['sepal length (cm)',\n",
       " 'sepal width (cm)',\n",
       " 'petal length (cm)',\n",
       " 'petal width (cm)']"
      ]
     },
     "execution_count": 62,
     "metadata": {},
     "output_type": "execute_result"
    }
   ],
   "source": [
    "# See the features in order\n",
    "feature_names"
   ]
  },
  {
   "cell_type": "code",
   "execution_count": 66,
   "metadata": {},
   "outputs": [
    {
     "data": {
      "text/plain": [
       "0.9666666666666667"
      ]
     },
     "execution_count": 66,
     "metadata": {},
     "output_type": "execute_result"
    }
   ],
   "source": [
    "# From the plots in the regression_and_classification.ipynb notebook, I found sepalLength_petalLength to be the most accurate\n",
    "# This is the best 2-feature system with the accuracy of 96.66666666666667%\n",
    "selector_2 = np.array([True,False,True,False])\n",
    "X = features[:,selector_2]\n",
    "Y = target\n",
    "logreg = linear_model.LogisticRegression(C=1e5, solver='lbfgs',multi_class='auto')\n",
    "logreg.fit(X, Y)\n",
    "predicted = logreg.predict(X)\n",
    "accuracy_score(Y,predicted)"
   ]
  },
  {
   "cell_type": "code",
   "execution_count": 78,
   "metadata": {},
   "outputs": [
    {
     "data": {
      "text/plain": [
       "0.98"
      ]
     },
     "execution_count": 78,
     "metadata": {},
     "output_type": "execute_result"
    }
   ],
   "source": [
    "# This is the best 3-feature system (sepal width, petal length, petal width OR sepal length, petal length, petal width) \n",
    "# with the accuracy of 98%\n",
    "selector_3 = np.array([True,False,True,True]) # selector_3 = np.array([False,True,True,True])\n",
    "X = features[:,selector_3]\n",
    "Y = target\n",
    "logreg = linear_model.LogisticRegression(C=1e5, solver='lbfgs',multi_class='auto')\n",
    "logreg.fit(X, Y)\n",
    "predicted = logreg.predict(X)\n",
    "accuracy_score(Y,predicted)"
   ]
  },
  {
   "cell_type": "markdown",
   "metadata": {
    "id": "iXeKn13RvcYX"
   },
   "source": [
    "**Q2**\n",
    "\n",
    "In the regression_and_classification notebook, \n",
    "we implemented a function called `is_non_red` that is supposed to distinguish \n",
    "class 0 from classes 1 and 2.  Here is the definition and an example of using it\n",
    "on a row of the Iris dataset."
   ]
  },
  {
   "cell_type": "markdown",
   "metadata": {
    "id": "_Qk1L95FvcYV"
   },
   "source": [
    "## 2.  The questions"
   ]
  },
  {
   "cell_type": "code",
   "execution_count": 83,
   "metadata": {
    "id": "0eP1FZ3ovcYX"
   },
   "outputs": [
    {
     "name": "stdout",
     "output_type": "stream",
     "text": [
      "P is in positive class: True\n"
     ]
    }
   ],
   "source": [
    "def is_non_red (P):\n",
    "    \"\"\"\n",
    "    P is a data point, all 4 attributes.\n",
    "    \n",
    "    Return True if P is in positive class.\n",
    "    \"\"\"\n",
    "    return (P[2] - .9*P[0] + 2) > 0\n",
    "\n",
    "P = features[-90]\n",
    "print('P is in positive class: {0}'.format(is_non_red(P)))"
   ]
  },
  {
   "cell_type": "markdown",
   "metadata": {
    "id": "zMeb-jyRvcYY"
   },
   "source": [
    "We call such a function a model (a model of `non-redness`). Write some code to evaluate this model's accuracy \n",
    "in predicting non redness.  Before calling the `accuracy_score` function, \n",
    "you will have to compute `predicted` using `is_non_red` to give you an array of predictions\n",
    "\n",
    "\n",
    "To create a prediction array using `is_non_red`, apply it to every row\n",
    "of `features`:\n",
    "\n",
    "```\n",
    "np.apply_along_axis(is_non_red, axis=1, arr= features)\n",
    "```\n",
    "\n",
    "You will also have to evaluate accuracy against a different standard.\n",
    "You can't evaluate against the class array `target` defined above\n",
    "because that has three classes and `is_non_red` essentially works with two. \n",
    "You have to start by creating a different\n",
    "class array that only has two classes, matching the kind of results `is_non_red` produces.\n",
    "The red class is 0, so you want `True` for every class 1 or 2 iris, and\n",
    "`False` for every class 0 iris. For this, use a Boolean mask on `target`.\n",
    "\n",
    "Be sure to say what your final score **means**.  Did you you do very well\n",
    "or very badly?  Using scikit learn, compute a model you can compare this model to in order to know\n",
    "whether you did very well or very badly. "
   ]
  },
  {
   "cell_type": "code",
   "execution_count": 124,
   "metadata": {},
   "outputs": [
    {
     "data": {
      "text/plain": [
       "array([0, 0, 0, 0, 0, 0, 0, 0, 0, 0, 0, 0, 0, 0, 0, 0, 0, 0, 0, 0, 0, 0,\n",
       "       0, 0, 0, 0, 0, 0, 0, 0, 0, 0, 0, 0, 0, 0, 0, 0, 0, 0, 0, 0, 0, 0,\n",
       "       0, 0, 0, 0, 0, 0, 1, 1, 1, 1, 1, 1, 1, 1, 1, 1, 1, 1, 1, 1, 1, 1,\n",
       "       1, 1, 1, 1, 1, 1, 1, 1, 1, 1, 1, 1, 1, 1, 1, 1, 1, 1, 1, 1, 1, 1,\n",
       "       1, 1, 1, 1, 1, 1, 1, 1, 1, 1, 1, 1, 2, 2, 2, 2, 2, 2, 2, 2, 2, 2,\n",
       "       2, 2, 2, 2, 2, 2, 2, 2, 2, 2, 2, 2, 2, 2, 2, 2, 2, 2, 2, 2, 2, 2,\n",
       "       2, 2, 2, 2, 2, 2, 2, 2, 2, 2, 2, 2, 2, 2, 2, 2, 2, 2])"
      ]
     },
     "execution_count": 124,
     "metadata": {},
     "output_type": "execute_result"
    }
   ],
   "source": [
    "target"
   ]
  },
  {
   "cell_type": "code",
   "execution_count": 165,
   "metadata": {
    "scrolled": true
   },
   "outputs": [
    {
     "data": {
      "text/plain": [
       "(150,)"
      ]
     },
     "execution_count": 165,
     "metadata": {},
     "output_type": "execute_result"
    }
   ],
   "source": [
    "# Below I am creating an array of 2 classes, so that 0 == False, 1 == True, 2 == True\n",
    "target_2_classes = ((target == 1) | (target == 2)) & ~(target == 0)\n",
    "# Check the dimension\n",
    "target_2_classes.shape"
   ]
  },
  {
   "cell_type": "code",
   "execution_count": 166,
   "metadata": {},
   "outputs": [
    {
     "data": {
      "text/plain": [
       "(150, 4)"
      ]
     },
     "execution_count": 166,
     "metadata": {},
     "output_type": "execute_result"
    }
   ],
   "source": [
    "# Make sure features and target_2_classes dimensions are compatible\n",
    "features.shape"
   ]
  },
  {
   "cell_type": "code",
   "execution_count": 167,
   "metadata": {},
   "outputs": [
    {
     "data": {
      "text/plain": [
       "1.0"
      ]
     },
     "execution_count": 167,
     "metadata": {},
     "output_type": "execute_result"
    }
   ],
   "source": [
    "# Prediction array is created by applying is_non_red model to every row of features\n",
    "predicted = np.apply_along_axis(is_non_red, axis=1, arr= features)\n",
    "accuracy_score(target_2_classes,predicted)"
   ]
  },
  {
   "cell_type": "code",
   "execution_count": 171,
   "metadata": {},
   "outputs": [],
   "source": [
    "# Accuracy is 1.0, 100%\n",
    "# I guess 100% accuracy is great"
   ]
  },
  {
   "cell_type": "markdown",
   "metadata": {
    "id": "jD3hQshyvcYY"
   },
   "source": [
    "**Q3** \n",
    "\n",
    "Using the `rock vs. mines` data set loaded in the next cell, draw a scatterplot of the points like the ones we did in Section 2 and 3 of this tutorial for the iris data. \n",
    "You will find the code in Section 3 of the rfegression_and_classification notebook will require the least modification.\n",
    "This data set tries to distinguish two classes, rocks and mines, based on sonar readings.\n",
    "Note, as the loading code indicates, this data has 60 features, which is a lot, so you should\n",
    "just pick one pair of features out and plot them.  Crucially,\n",
    "you **don't** need to plot all pairs (there are 1770 pairs), even though\n",
    "with 60 features, you are unlikely to have much success using just two.\n",
    "\n",
    "When modifying the code to draw the picture, bear in mind you really only need to\n",
    "scatter the points.  You are not being asked to draw a separation line,\n",
    "and you don't need to draw our point P, because it doesn't appear in this data.\n",
    "You should try to give the points belonging to the two classes different colors\n",
    "and shapes, as was done above."
   ]
  },
  {
   "cell_type": "code",
   "execution_count": 212,
   "metadata": {
    "id": "sZD4Dl-lvcYZ"
   },
   "outputs": [
    {
     "name": "stdout",
     "output_type": "stream",
     "text": [
      "208 exemplars with 61 features\n",
      "2 classes: ['M', 'R']\n"
     ]
    }
   ],
   "source": [
    "import pandas as pd\n",
    "\n",
    "target_url = (\"https://archive.ics.uci.edu/ml/machine-learning-\"\n",
    "\"databases/undocumented/connectionist-bench/sonar/sonar.all-data\")\n",
    "\n",
    "#read rocks mines data\n",
    "mine_df = pd.read_csv(target_url, header=None)\n",
    "mine_features = mine_df.values\n",
    "(samp_sz, num_feats) = mine_features.shape\n",
    "print('{0} exemplars with {1} features'.format(samp_sz, num_feats))\n",
    "# The last column contains the class data.  Separate it from the others.\n",
    "target = mine_features[:, 60]\n",
    "# Everything else is a feature\n",
    "mine_features = mine_features[:, :60]\n",
    "(samp_sz, num_feats) = mine_features.shape\n",
    "\n",
    "# Find the two classes we're trying to separate.\n",
    "feat_set = list(set(target))\n",
    "print('{0} classes: {1}'.format(len(feat_set), feat_set))"
   ]
  },
  {
   "cell_type": "code",
   "execution_count": 186,
   "metadata": {},
   "outputs": [
    {
     "data": {
      "text/plain": [
       "array([[0.02, 0.0371, 0.0428, ..., 0.0084, 0.009, 0.0032],\n",
       "       [0.0453, 0.0523, 0.0843, ..., 0.0049, 0.0052, 0.0044],\n",
       "       [0.0262, 0.0582, 0.1099, ..., 0.0164, 0.0095, 0.0078],\n",
       "       ...,\n",
       "       [0.0522, 0.0437, 0.018, ..., 0.0138, 0.0077, 0.0031],\n",
       "       [0.0303, 0.0353, 0.049, ..., 0.0079, 0.0036, 0.0048],\n",
       "       [0.026, 0.0363, 0.0136, ..., 0.0036, 0.0061, 0.0115]], dtype=object)"
      ]
     },
     "execution_count": 186,
     "metadata": {},
     "output_type": "execute_result"
    }
   ],
   "source": [
    "mine_features"
   ]
  },
  {
   "cell_type": "code",
   "execution_count": 193,
   "metadata": {
    "scrolled": true
   },
   "outputs": [
    {
     "data": {
      "text/plain": [
       "array(['R', 'R', 'R', 'R', 'R', 'R', 'R', 'R', 'R', 'R', 'R', 'R', 'R',\n",
       "       'R', 'R', 'R', 'R', 'R', 'R', 'R', 'R', 'R', 'R', 'R', 'R', 'R',\n",
       "       'R', 'R', 'R', 'R', 'R', 'R', 'R', 'R', 'R', 'R', 'R', 'R', 'R',\n",
       "       'R', 'R', 'R', 'R', 'R', 'R', 'R', 'R', 'R', 'R', 'R', 'R', 'R',\n",
       "       'R', 'R', 'R', 'R', 'R', 'R', 'R', 'R', 'R', 'R', 'R', 'R', 'R',\n",
       "       'R', 'R', 'R', 'R', 'R', 'R', 'R', 'R', 'R', 'R', 'R', 'R', 'R',\n",
       "       'R', 'R', 'R', 'R', 'R', 'R', 'R', 'R', 'R', 'R', 'R', 'R', 'R',\n",
       "       'R', 'R', 'R', 'R', 'R', 'R', 'M', 'M', 'M', 'M', 'M', 'M', 'M',\n",
       "       'M', 'M', 'M', 'M', 'M', 'M', 'M', 'M', 'M', 'M', 'M', 'M', 'M',\n",
       "       'M', 'M', 'M', 'M', 'M', 'M', 'M', 'M', 'M', 'M', 'M', 'M', 'M',\n",
       "       'M', 'M', 'M', 'M', 'M', 'M', 'M', 'M', 'M', 'M', 'M', 'M', 'M',\n",
       "       'M', 'M', 'M', 'M', 'M', 'M', 'M', 'M', 'M', 'M', 'M', 'M', 'M',\n",
       "       'M', 'M', 'M', 'M', 'M', 'M', 'M', 'M', 'M', 'M', 'M', 'M', 'M',\n",
       "       'M', 'M', 'M', 'M', 'M', 'M', 'M', 'M', 'M', 'M', 'M', 'M', 'M',\n",
       "       'M', 'M', 'M', 'M', 'M', 'M', 'M', 'M', 'M', 'M', 'M', 'M', 'M',\n",
       "       'M', 'M', 'M', 'M', 'M', 'M', 'M', 'M', 'M', 'M', 'M', 'M', 'M'],\n",
       "      dtype=object)"
      ]
     },
     "execution_count": 193,
     "metadata": {},
     "output_type": "execute_result"
    }
   ],
   "source": [
    "target"
   ]
  },
  {
   "cell_type": "code",
   "execution_count": 259,
   "metadata": {},
   "outputs": [
    {
     "data": {
      "text/plain": [
       "['M', 'R']"
      ]
     },
     "execution_count": 259,
     "metadata": {},
     "output_type": "execute_result"
    }
   ],
   "source": [
    "feat_set"
   ]
  },
  {
   "cell_type": "code",
   "execution_count": 265,
   "metadata": {
    "scrolled": true
   },
   "outputs": [
    {
     "data": {
      "image/png": "[encoded data removed]",
      "text/plain": [
       "<Figure size 1152x864 with 3 Axes>"
      ]
     },
     "metadata": {
      "needs_background": "light"
     },
     "output_type": "display_data"
    }
   ],
   "source": [
    "%matplotlib inline\n",
    "\n",
    "import pylab \n",
    "import numpy as np\n",
    "from matplotlib import pyplot as plt\n",
    "\n",
    "# Let's make this a big figure, because there are multiple subplots\n",
    "pylab.rcParams['figure.figsize'] = (16.0, 12.0)\n",
    "\n",
    "markers, colors  = \">ox\", \"rgb\"\n",
    "\n",
    "# Four columns, plot two at a time.  \n",
    "# Possible pairings. Could have chosen 1, but I wanted to see several of them\n",
    "pairs = [(23,59), (12, 48), (2, 7)]\n",
    "\n",
    "for i,(x,y) in enumerate(pairs):\n",
    "    # 6 subplots in 2x3 configuration. Each subplot pairs two iris\n",
    "    # attributes we call x and y. Let's do subplot i+1 now.\n",
    "    plt.subplot(2,3,i+1)\n",
    "    # On this subplot we're doing 3 sets of points, each belonging to a different iris class\n",
    "    # with a different color and shape used to draw the points.  To do the 3 sets, use a loop.\n",
    "    # To loop through 3 sequences at once, zip them together first\n",
    "    for cls,marker,clr in zip(range(2),markers,colors):\n",
    "        plt.scatter(mine_features[target == feat_set[cls],x], mine_features[target == feat_set[cls],y], marker=marker, c=clr)\n",
    "\n",
    "# for i,(x,y) in enumerate(pairs):\n",
    "#     # 6 subplots in 2x3 configuration. Each subplot pairs two iris\n",
    "#     # attributes we call x and y. Let's do subplot i+1 now.\n",
    "#     plt.subplot(2,3,i+1)\n",
    "#     plt.scatter(mine_features[target == 'M',x], mine_features[target == 'M',y], marker=marker, c='green')\n",
    "#     plt.scatter(mine_features[target == 'R',x], mine_features[target == 'R',y],  marker=marker, c='red')\n",
    "        "
   ]
  },
  {
   "cell_type": "markdown",
   "metadata": {
    "id": "ckHLb1-cvcYZ"
   },
   "source": [
    "**Q4**\n",
    "\n",
    "Combining variables: Cheap non-linearity"
   ]
  },
  {
   "cell_type": "markdown",
   "metadata": {
    "id": "UsFj4STTvcYZ"
   },
   "source": [
    "The [Heidelberg stat-center](http://www.statlab.uni-heidelberg.de/data/iris/) reports a very nice result obtained by combining\n",
    "the 2 petal features and the  2 sepal features by multiplication.  We end up with 2 **area** features, and a system that's almost as good as a 4-feature linear system,\n",
    "at the cost of a little non-linearity (the multiplication). Here's the computation,\n",
    "and the picture, both of which are very simple.  \n",
    "\n",
    "Notice what the picture is telling us:  Petal area alone\n",
    "is enough to almost perfectly perform the discrimination.  And the insight can easily be made visual."
   ]
  },
  {
   "cell_type": "code",
   "execution_count": 2,
   "metadata": {
    "id": "JpUVby38vcYZ",
    "outputId": "d30d0760-70a2-46d3-d897-29b62de8e257"
   },
   "outputs": [
    {
     "data": {
      "text/plain": [
       "Text(0, 0.5, 'petal area')"
      ]
     },
     "execution_count": 2,
     "metadata": {},
     "output_type": "execute_result"
    },
    {
     "data": {
      "image/png": "[encoded data removed]",
      "text/plain": [
       "<Figure size 432x288 with 1 Axes>"
      ]
     },
     "metadata": {
      "needs_background": "light"
     },
     "output_type": "display_data"
    }
   ],
   "source": [
    "from sklearn.datasets import load_iris\n",
    "from sklearn.metrics import accuracy_score\n",
    "import numpy as np\n",
    "from matplotlib import pyplot as plt\n",
    "\n",
    "data = load_iris()\n",
    "features = data['data']\n",
    "feature_names = data['feature_names']\n",
    "target = data['target']\n",
    "sepal_area = features[:,0] * features[:,1]\n",
    "petal_area = features[:,2] * features[:,3]\n",
    "\n",
    "for t,marker,c in zip(list(range(3)),\">ox\",\"rgb\"):\n",
    "    plt.scatter(sepal_area[target == t], petal_area[target == t], marker=marker, c=c,s=60) \n",
    "\n",
    "# Let's draw our point P with extra special attention getting large SIZE.\n",
    "p_sepal_area,p_petal_area,p_target  = sepal_area[-90],petal_area[-90],target[-90]\n",
    "marker,clr = \">ox\"[p_target], \"rgb\"[p_target]\n",
    "plt.scatter(p_sepal_area,p_petal_area,marker=marker,c=clr,s=180)\n",
    "\n",
    "# Let;s draw some linear separators, horizontal lines in this case\n",
    "plt.plot(np.arange(0.,40.),np.array([1.8]*40))\n",
    "plt.plot(np.arange(0.,40.),np.array([7.4]*40))\n",
    "plt.axis('tight')\n",
    "plt.xlabel('sepal area')\n",
    "plt.ylabel('petal area')"
   ]
  },
  {
   "cell_type": "markdown",
   "metadata": {
    "id": "GGF89rtzvcYa"
   },
   "source": [
    "**Q4: Part A** \n",
    "\n",
    "Validate what the picture is telling you by training and evaluating a `linear_model.LogisticRegression` \n",
    "classifier that uses **only** the petal area feature.  \n",
    "\n",
    "You can define values for `petal_area` feature by evaluating the cell.  Your\n",
    "answer should be a few lines of code.  The last line should print out the\n",
    "accuracy score for your classifier."
   ]
  },
  {
   "cell_type": "code",
   "execution_count": 18,
   "metadata": {},
   "outputs": [
    {
     "data": {
      "text/plain": [
       "0.9533333333333334"
      ]
     },
     "execution_count": 18,
     "metadata": {},
     "output_type": "execute_result"
    }
   ],
   "source": [
    "from sklearn import linear_model\n",
    "from sklearn.metrics import accuracy_score\n",
    "\n",
    "X = petal_area.reshape(-1, 1) # reshaping because otherwise, there is a \"ValueError: Expected 2D array, got 1D array instead\"\n",
    "Y = target\n",
    "\n",
    "# Create an instance of a Logistic Regression Classifier\n",
    "logreg = linear_model.LogisticRegression(C=1e5,solver='lbfgs',multi_class='auto')\n",
    "# Train the data\n",
    "logreg.fit(X, Y)\n",
    "# Predict\n",
    "predicted = logreg.predict(X)\n",
    "# Determine accuracy\n",
    "accuracy_score(Y,predicted)\n"
   ]
  },
  {
   "cell_type": "markdown",
   "metadata": {
    "id": "R3f-Xh8VvcYa"
   },
   "source": [
    "**Q4: Part B** \n",
    "\n",
    "Train and evaluate a `linear_model.LogisticRegression` \n",
    "classifier that uses **both** the petal area feature and the sepal area feature.  \n",
    "Guidelines as with the last problem.\n"
   ]
  },
  {
   "cell_type": "code",
   "execution_count": 27,
   "metadata": {},
   "outputs": [
    {
     "data": {
      "text/plain": [
       "numpy.ndarray"
      ]
     },
     "execution_count": 27,
     "metadata": {},
     "output_type": "execute_result"
    }
   ],
   "source": [
    "# type(X)"
   ]
  },
  {
   "cell_type": "code",
   "execution_count": 30,
   "metadata": {},
   "outputs": [
    {
     "data": {
      "text/plain": [
       "150"
      ]
     },
     "execution_count": 30,
     "metadata": {},
     "output_type": "execute_result"
    }
   ],
   "source": [
    "# len(X)"
   ]
  },
  {
   "cell_type": "code",
   "execution_count": 34,
   "metadata": {},
   "outputs": [
    {
     "data": {
      "text/plain": [
       "0.98"
      ]
     },
     "execution_count": 34,
     "metadata": {},
     "output_type": "execute_result"
    }
   ],
   "source": [
    "X_all = np.c_[petal_area.ravel(), sepal_area.ravel()]\n",
    "Y = target\n",
    "\n",
    "# Create an instance of a Logistic Regression Classifier\n",
    "logreg = linear_model.LogisticRegression(C=1e5,solver='lbfgs',multi_class='auto')\n",
    "# Train the data\n",
    "logreg.fit(X_all, Y)\n",
    "# Predict\n",
    "predicted = logreg.predict(X_all)\n",
    "# Determine accuracy\n",
    "accuracy_score(Y,predicted)\n"
   ]
  },
  {
   "cell_type": "code",
   "execution_count": 31,
   "metadata": {},
   "outputs": [
    {
     "data": {
      "text/plain": [
       "2"
      ]
     },
     "execution_count": 31,
     "metadata": {},
     "output_type": "execute_result"
    }
   ],
   "source": [
    "# len(X_all)"
   ]
  },
  {
   "cell_type": "code",
   "execution_count": 28,
   "metadata": {},
   "outputs": [
    {
     "data": {
      "text/plain": [
       "numpy.ndarray"
      ]
     },
     "execution_count": 28,
     "metadata": {},
     "output_type": "execute_result"
    }
   ],
   "source": [
    "# type(X_all)"
   ]
  },
  {
   "cell_type": "markdown",
   "metadata": {
    "collapsed": true,
    "id": "IZv7rnjdvcYa"
   },
   "source": [
    "**Q4 Part C**\n",
    "\n",
    "Train and evaluate a `linear_model.LogisticRegression` \n",
    "classifier that uses both  area features **as well as** the original 4 features.\n",
    "Does this do better than a classifier trained on the original 4 features?\n"
   ]
  },
  {
   "cell_type": "code",
   "execution_count": 59,
   "metadata": {
    "id": "HGru-Bf8vcYa",
    "scrolled": true
   },
   "outputs": [
    {
     "data": {
      "text/plain": [
       "0.9866666666666667"
      ]
     },
     "execution_count": 59,
     "metadata": {},
     "output_type": "execute_result"
    }
   ],
   "source": [
    "# X_all = np.c_[petal_area.ravel(), sepal_area.ravel(), features.ravel()]\n",
    "_X_ = np.column_stack((X_all, features))\n",
    "Y = target\n",
    "\n",
    "# Create an instance of a Logistic Regression Classifier\n",
    "logreg = linear_model.LogisticRegression(C=1e5,solver='lbfgs',multi_class='auto')\n",
    "# Train the data\n",
    "logreg.fit(_X_, Y)\n",
    "# Predict\n",
    "predicted = logreg.predict(_X_)\n",
    "# Determine accuracy\n",
    "accuracy_score(Y,predicted)"
   ]
  },
  {
   "cell_type": "code",
   "execution_count": 60,
   "metadata": {},
   "outputs": [],
   "source": [
    "# Looks like accuracy increased. It was 0.98 before, now it is 0.9866666666666667.\n",
    "# Accuracy increased by 68%"
   ]
  },
  {
   "cell_type": "code",
   "execution_count": 48,
   "metadata": {},
   "outputs": [
    {
     "data": {
      "text/plain": [
       "(150,)"
      ]
     },
     "execution_count": 48,
     "metadata": {},
     "output_type": "execute_result"
    }
   ],
   "source": [
    "# petal_area.shape"
   ]
  },
  {
   "cell_type": "code",
   "execution_count": 49,
   "metadata": {},
   "outputs": [
    {
     "data": {
      "text/plain": [
       "(150,)"
      ]
     },
     "execution_count": 49,
     "metadata": {},
     "output_type": "execute_result"
    }
   ],
   "source": [
    "# sepal_area.shape"
   ]
  },
  {
   "cell_type": "code",
   "execution_count": 47,
   "metadata": {},
   "outputs": [
    {
     "data": {
      "text/plain": [
       "(150, 4)"
      ]
     },
     "execution_count": 47,
     "metadata": {},
     "output_type": "execute_result"
    }
   ],
   "source": [
    "# features.shape"
   ]
  },
  {
   "cell_type": "code",
   "execution_count": null,
   "metadata": {},
   "outputs": [],
   "source": []
  }
 ],
 "metadata": {
  "colab": {
   "provenance": []
  },
  "kernelspec": {
   "display_name": "Python 3 (ipykernel)",
   "language": "python",
   "name": "python3"
  },
  "language_info": {
   "codemirror_mode": {
    "name": "ipython",
    "version": 3
   },
   "file_extension": ".py",
   "mimetype": "text/x-python",
   "name": "python",
   "nbconvert_exporter": "python",
   "pygments_lexer": "ipython3",
   "version": "3.9.12"
  },
  "toc": {
   "base_numbering": 1,
   "nav_menu": {
    "height": "171px",
    "width": "253px"
   },
   "number_sections": true,
   "sideBar": true,
   "skip_h1_title": false,
   "title_cell": "Table of Contents",
   "title_sidebar": "Contents",
   "toc_cell": false,
   "toc_position": {},
   "toc_section_display": "block",
   "toc_window_display": false
  }
 },
 "nbformat": 4,
 "nbformat_minor": 1
}
